{
 "cells": [
  {
   "cell_type": "code",
   "execution_count": 1,
   "id": "a2f688de",
   "metadata": {
    "execution": {
     "iopub.execute_input": "2024-11-29T13:14:51.833790Z",
     "iopub.status.busy": "2024-11-29T13:14:51.833371Z",
     "iopub.status.idle": "2024-11-29T13:14:52.938416Z",
     "shell.execute_reply": "2024-11-29T13:14:52.937455Z"
    },
    "papermill": {
     "duration": 1.123528,
     "end_time": "2024-11-29T13:14:52.940835",
     "exception": false,
     "start_time": "2024-11-29T13:14:51.817307",
     "status": "completed"
    },
    "tags": []
   },
   "outputs": [],
   "source": [
    "import pandas as pd\n",
    "import numpy as np"
   ]
  },
  {
   "cell_type": "code",
   "execution_count": 2,
   "id": "bce90501",
   "metadata": {
    "execution": {
     "iopub.execute_input": "2024-11-29T13:14:52.970821Z",
     "iopub.status.busy": "2024-11-29T13:14:52.970326Z",
     "iopub.status.idle": "2024-11-29T13:14:53.131611Z",
     "shell.execute_reply": "2024-11-29T13:14:53.130586Z"
    },
    "papermill": {
     "duration": 0.1783,
     "end_time": "2024-11-29T13:14:53.134145",
     "exception": false,
     "start_time": "2024-11-29T13:14:52.955845",
     "status": "completed"
    },
    "tags": []
   },
   "outputs": [],
   "source": [
    "# for importing the data set.\n",
    "df=pd.read_csv('/kaggle/input/predict-the-success-of-bank-telemarketing/train.csv')"
   ]
  },
  {
   "cell_type": "code",
   "execution_count": 3,
   "id": "8df14eff",
   "metadata": {
    "execution": {
     "iopub.execute_input": "2024-11-29T13:14:53.162846Z",
     "iopub.status.busy": "2024-11-29T13:14:53.162473Z",
     "iopub.status.idle": "2024-11-29T13:14:53.220817Z",
     "shell.execute_reply": "2024-11-29T13:14:53.219384Z"
    },
    "papermill": {
     "duration": 0.075717,
     "end_time": "2024-11-29T13:14:53.223445",
     "exception": false,
     "start_time": "2024-11-29T13:14:53.147728",
     "status": "completed"
    },
    "tags": []
   },
   "outputs": [
    {
     "name": "stdout",
     "output_type": "stream",
     "text": [
      "<class 'pandas.core.frame.DataFrame'>\n",
      "RangeIndex: 39211 entries, 0 to 39210\n",
      "Data columns (total 16 columns):\n",
      " #   Column             Non-Null Count  Dtype \n",
      "---  ------             --------------  ----- \n",
      " 0   last contact date  39211 non-null  object\n",
      " 1   age                39211 non-null  int64 \n",
      " 2   job                38982 non-null  object\n",
      " 3   marital            39211 non-null  object\n",
      " 4   education          37744 non-null  object\n",
      " 5   default            39211 non-null  object\n",
      " 6   balance            39211 non-null  int64 \n",
      " 7   housing            39211 non-null  object\n",
      " 8   loan               39211 non-null  object\n",
      " 9   contact            28875 non-null  object\n",
      " 10  duration           39211 non-null  int64 \n",
      " 11  campaign           39211 non-null  int64 \n",
      " 12  pdays              39211 non-null  int64 \n",
      " 13  previous           39211 non-null  int64 \n",
      " 14  poutcome           9760 non-null   object\n",
      " 15  target             39211 non-null  object\n",
      "dtypes: int64(6), object(10)\n",
      "memory usage: 4.8+ MB\n"
     ]
    }
   ],
   "source": [
    "# To get the datatype of each coloum, total number of data , coloum names and number of coloums used in data\n",
    "df.info()"
   ]
  },
  {
   "cell_type": "markdown",
   "id": "38ac0f09",
   "metadata": {
    "papermill": {
     "duration": 0.013741,
     "end_time": "2024-11-29T13:14:53.251077",
     "exception": false,
     "start_time": "2024-11-29T13:14:53.237336",
     "status": "completed"
    },
    "tags": []
   },
   "source": [
    "# **Exploratory data analysis**"
   ]
  },
  {
   "cell_type": "code",
   "execution_count": 4,
   "id": "dd892f77",
   "metadata": {
    "execution": {
     "iopub.execute_input": "2024-11-29T13:14:53.280312Z",
     "iopub.status.busy": "2024-11-29T13:14:53.279907Z",
     "iopub.status.idle": "2024-11-29T13:14:53.329317Z",
     "shell.execute_reply": "2024-11-29T13:14:53.327929Z"
    },
    "papermill": {
     "duration": 0.066725,
     "end_time": "2024-11-29T13:14:53.331759",
     "exception": false,
     "start_time": "2024-11-29T13:14:53.265034",
     "status": "completed"
    },
    "tags": []
   },
   "outputs": [
    {
     "data": {
      "text/html": [
       "<div>\n",
       "<style scoped>\n",
       "    .dataframe tbody tr th:only-of-type {\n",
       "        vertical-align: middle;\n",
       "    }\n",
       "\n",
       "    .dataframe tbody tr th {\n",
       "        vertical-align: top;\n",
       "    }\n",
       "\n",
       "    .dataframe thead th {\n",
       "        text-align: right;\n",
       "    }\n",
       "</style>\n",
       "<table border=\"1\" class=\"dataframe\">\n",
       "  <thead>\n",
       "    <tr style=\"text-align: right;\">\n",
       "      <th></th>\n",
       "      <th>age</th>\n",
       "      <th>balance</th>\n",
       "      <th>duration</th>\n",
       "      <th>campaign</th>\n",
       "      <th>pdays</th>\n",
       "      <th>previous</th>\n",
       "    </tr>\n",
       "  </thead>\n",
       "  <tbody>\n",
       "    <tr>\n",
       "      <th>count</th>\n",
       "      <td>39211.000000</td>\n",
       "      <td>39211.000000</td>\n",
       "      <td>39211.000000</td>\n",
       "      <td>39211.000000</td>\n",
       "      <td>39211.000000</td>\n",
       "      <td>39211.000000</td>\n",
       "    </tr>\n",
       "    <tr>\n",
       "      <th>mean</th>\n",
       "      <td>42.120247</td>\n",
       "      <td>5441.781719</td>\n",
       "      <td>439.062789</td>\n",
       "      <td>5.108770</td>\n",
       "      <td>72.256051</td>\n",
       "      <td>11.826171</td>\n",
       "    </tr>\n",
       "    <tr>\n",
       "      <th>std</th>\n",
       "      <td>12.709352</td>\n",
       "      <td>16365.292065</td>\n",
       "      <td>769.096291</td>\n",
       "      <td>9.890153</td>\n",
       "      <td>160.942593</td>\n",
       "      <td>44.140259</td>\n",
       "    </tr>\n",
       "    <tr>\n",
       "      <th>min</th>\n",
       "      <td>18.000000</td>\n",
       "      <td>-8019.000000</td>\n",
       "      <td>0.000000</td>\n",
       "      <td>1.000000</td>\n",
       "      <td>-1.000000</td>\n",
       "      <td>0.000000</td>\n",
       "    </tr>\n",
       "    <tr>\n",
       "      <th>25%</th>\n",
       "      <td>33.000000</td>\n",
       "      <td>98.000000</td>\n",
       "      <td>109.000000</td>\n",
       "      <td>1.000000</td>\n",
       "      <td>-1.000000</td>\n",
       "      <td>0.000000</td>\n",
       "    </tr>\n",
       "    <tr>\n",
       "      <th>50%</th>\n",
       "      <td>40.000000</td>\n",
       "      <td>549.000000</td>\n",
       "      <td>197.000000</td>\n",
       "      <td>2.000000</td>\n",
       "      <td>-1.000000</td>\n",
       "      <td>0.000000</td>\n",
       "    </tr>\n",
       "    <tr>\n",
       "      <th>75%</th>\n",
       "      <td>50.000000</td>\n",
       "      <td>2030.000000</td>\n",
       "      <td>380.000000</td>\n",
       "      <td>4.000000</td>\n",
       "      <td>-1.000000</td>\n",
       "      <td>0.000000</td>\n",
       "    </tr>\n",
       "    <tr>\n",
       "      <th>max</th>\n",
       "      <td>95.000000</td>\n",
       "      <td>102127.000000</td>\n",
       "      <td>4918.000000</td>\n",
       "      <td>63.000000</td>\n",
       "      <td>871.000000</td>\n",
       "      <td>275.000000</td>\n",
       "    </tr>\n",
       "  </tbody>\n",
       "</table>\n",
       "</div>"
      ],
      "text/plain": [
       "                age        balance      duration      campaign         pdays  \\\n",
       "count  39211.000000   39211.000000  39211.000000  39211.000000  39211.000000   \n",
       "mean      42.120247    5441.781719    439.062789      5.108770     72.256051   \n",
       "std       12.709352   16365.292065    769.096291      9.890153    160.942593   \n",
       "min       18.000000   -8019.000000      0.000000      1.000000     -1.000000   \n",
       "25%       33.000000      98.000000    109.000000      1.000000     -1.000000   \n",
       "50%       40.000000     549.000000    197.000000      2.000000     -1.000000   \n",
       "75%       50.000000    2030.000000    380.000000      4.000000     -1.000000   \n",
       "max       95.000000  102127.000000   4918.000000     63.000000    871.000000   \n",
       "\n",
       "           previous  \n",
       "count  39211.000000  \n",
       "mean      11.826171  \n",
       "std       44.140259  \n",
       "min        0.000000  \n",
       "25%        0.000000  \n",
       "50%        0.000000  \n",
       "75%        0.000000  \n",
       "max      275.000000  "
      ]
     },
     "execution_count": 4,
     "metadata": {},
     "output_type": "execute_result"
    }
   ],
   "source": [
    "# inorder to get the an idea about the outliar and the distribution of the numerical data\n",
    "df.describe()"
   ]
  },
  {
   "cell_type": "code",
   "execution_count": 5,
   "id": "f8d98a1e",
   "metadata": {
    "execution": {
     "iopub.execute_input": "2024-11-29T13:14:53.361200Z",
     "iopub.status.busy": "2024-11-29T13:14:53.360847Z",
     "iopub.status.idle": "2024-11-29T13:14:54.932033Z",
     "shell.execute_reply": "2024-11-29T13:14:54.930930Z"
    },
    "papermill": {
     "duration": 1.58901,
     "end_time": "2024-11-29T13:14:54.934613",
     "exception": false,
     "start_time": "2024-11-29T13:14:53.345603",
     "status": "completed"
    },
    "tags": []
   },
   "outputs": [],
   "source": [
    "# since the data for each category are spread in different ranges so that the Standardization helP to prevent the overdomianance of high valued data.\n",
    "\n",
    "from sklearn.preprocessing import StandardScaler\n",
    "\n",
    "scaler = StandardScaler()\n",
    "df[['age','balance','duration','campaign','pdays','previous']] = scaler.fit_transform(df[['age','balance','duration','campaign','pdays','previous']])  \n"
   ]
  },
  {
   "cell_type": "code",
   "execution_count": 6,
   "id": "cd8aff4a",
   "metadata": {
    "execution": {
     "iopub.execute_input": "2024-11-29T13:14:54.964975Z",
     "iopub.status.busy": "2024-11-29T13:14:54.964475Z",
     "iopub.status.idle": "2024-11-29T13:14:54.983178Z",
     "shell.execute_reply": "2024-11-29T13:14:54.981995Z"
    },
    "papermill": {
     "duration": 0.036928,
     "end_time": "2024-11-29T13:14:54.985428",
     "exception": false,
     "start_time": "2024-11-29T13:14:54.948500",
     "status": "completed"
    },
    "tags": []
   },
   "outputs": [
    {
     "data": {
      "text/html": [
       "<div>\n",
       "<style scoped>\n",
       "    .dataframe tbody tr th:only-of-type {\n",
       "        vertical-align: middle;\n",
       "    }\n",
       "\n",
       "    .dataframe tbody tr th {\n",
       "        vertical-align: top;\n",
       "    }\n",
       "\n",
       "    .dataframe thead th {\n",
       "        text-align: right;\n",
       "    }\n",
       "</style>\n",
       "<table border=\"1\" class=\"dataframe\">\n",
       "  <thead>\n",
       "    <tr style=\"text-align: right;\">\n",
       "      <th></th>\n",
       "      <th>last contact date</th>\n",
       "      <th>age</th>\n",
       "      <th>job</th>\n",
       "      <th>marital</th>\n",
       "      <th>education</th>\n",
       "      <th>default</th>\n",
       "      <th>balance</th>\n",
       "      <th>housing</th>\n",
       "      <th>loan</th>\n",
       "      <th>contact</th>\n",
       "      <th>duration</th>\n",
       "      <th>campaign</th>\n",
       "      <th>pdays</th>\n",
       "      <th>previous</th>\n",
       "      <th>poutcome</th>\n",
       "      <th>target</th>\n",
       "    </tr>\n",
       "  </thead>\n",
       "  <tbody>\n",
       "    <tr>\n",
       "      <th>0</th>\n",
       "      <td>2009-04-17</td>\n",
       "      <td>-1.268393</td>\n",
       "      <td>blue-collar</td>\n",
       "      <td>married</td>\n",
       "      <td>secondary</td>\n",
       "      <td>no</td>\n",
       "      <td>-0.292989</td>\n",
       "      <td>yes</td>\n",
       "      <td>no</td>\n",
       "      <td>cellular</td>\n",
       "      <td>-0.106702</td>\n",
       "      <td>-0.314334</td>\n",
       "      <td>1.607699</td>\n",
       "      <td>-0.245271</td>\n",
       "      <td>other</td>\n",
       "      <td>no</td>\n",
       "    </tr>\n",
       "    <tr>\n",
       "      <th>1</th>\n",
       "      <td>2009-10-11</td>\n",
       "      <td>0.777371</td>\n",
       "      <td>technician</td>\n",
       "      <td>married</td>\n",
       "      <td>secondary</td>\n",
       "      <td>no</td>\n",
       "      <td>-0.298732</td>\n",
       "      <td>yes</td>\n",
       "      <td>no</td>\n",
       "      <td>telephone</td>\n",
       "      <td>-0.362850</td>\n",
       "      <td>-0.415446</td>\n",
       "      <td>-0.455175</td>\n",
       "      <td>-0.267926</td>\n",
       "      <td>NaN</td>\n",
       "      <td>no</td>\n",
       "    </tr>\n",
       "    <tr>\n",
       "      <th>2</th>\n",
       "      <td>2010-11-20</td>\n",
       "      <td>0.147905</td>\n",
       "      <td>blue-collar</td>\n",
       "      <td>married</td>\n",
       "      <td>secondary</td>\n",
       "      <td>no</td>\n",
       "      <td>-0.247159</td>\n",
       "      <td>no</td>\n",
       "      <td>no</td>\n",
       "      <td>cellular</td>\n",
       "      <td>-0.147009</td>\n",
       "      <td>-0.415446</td>\n",
       "      <td>-0.455175</td>\n",
       "      <td>-0.267926</td>\n",
       "      <td>NaN</td>\n",
       "      <td>no</td>\n",
       "    </tr>\n",
       "    <tr>\n",
       "      <th>3</th>\n",
       "      <td>2009-09-01</td>\n",
       "      <td>-0.717610</td>\n",
       "      <td>admin.</td>\n",
       "      <td>married</td>\n",
       "      <td>secondary</td>\n",
       "      <td>no</td>\n",
       "      <td>-0.308448</td>\n",
       "      <td>yes</td>\n",
       "      <td>no</td>\n",
       "      <td>telephone</td>\n",
       "      <td>-0.435663</td>\n",
       "      <td>-0.213222</td>\n",
       "      <td>-0.455175</td>\n",
       "      <td>-0.267926</td>\n",
       "      <td>NaN</td>\n",
       "      <td>no</td>\n",
       "    </tr>\n",
       "    <tr>\n",
       "      <th>4</th>\n",
       "      <td>2008-01-29</td>\n",
       "      <td>-0.874977</td>\n",
       "      <td>entrepreneur</td>\n",
       "      <td>single</td>\n",
       "      <td>tertiary</td>\n",
       "      <td>no</td>\n",
       "      <td>-0.324152</td>\n",
       "      <td>no</td>\n",
       "      <td>no</td>\n",
       "      <td>cellular</td>\n",
       "      <td>0.007720</td>\n",
       "      <td>-0.314334</td>\n",
       "      <td>-0.455175</td>\n",
       "      <td>-0.267926</td>\n",
       "      <td>NaN</td>\n",
       "      <td>no</td>\n",
       "    </tr>\n",
       "  </tbody>\n",
       "</table>\n",
       "</div>"
      ],
      "text/plain": [
       "  last contact date       age           job  marital  education default  \\\n",
       "0        2009-04-17 -1.268393   blue-collar  married  secondary      no   \n",
       "1        2009-10-11  0.777371    technician  married  secondary      no   \n",
       "2        2010-11-20  0.147905   blue-collar  married  secondary      no   \n",
       "3        2009-09-01 -0.717610        admin.  married  secondary      no   \n",
       "4        2008-01-29 -0.874977  entrepreneur   single   tertiary      no   \n",
       "\n",
       "    balance housing loan    contact  duration  campaign     pdays  previous  \\\n",
       "0 -0.292989     yes   no   cellular -0.106702 -0.314334  1.607699 -0.245271   \n",
       "1 -0.298732     yes   no  telephone -0.362850 -0.415446 -0.455175 -0.267926   \n",
       "2 -0.247159      no   no   cellular -0.147009 -0.415446 -0.455175 -0.267926   \n",
       "3 -0.308448     yes   no  telephone -0.435663 -0.213222 -0.455175 -0.267926   \n",
       "4 -0.324152      no   no   cellular  0.007720 -0.314334 -0.455175 -0.267926   \n",
       "\n",
       "  poutcome target  \n",
       "0    other     no  \n",
       "1      NaN     no  \n",
       "2      NaN     no  \n",
       "3      NaN     no  \n",
       "4      NaN     no  "
      ]
     },
     "execution_count": 6,
     "metadata": {},
     "output_type": "execute_result"
    }
   ],
   "source": [
    "# to get an idea about the data set.\n",
    "df.head()"
   ]
  },
  {
   "cell_type": "code",
   "execution_count": 7,
   "id": "8e5c7b0f",
   "metadata": {
    "execution": {
     "iopub.execute_input": "2024-11-29T13:14:55.014950Z",
     "iopub.status.busy": "2024-11-29T13:14:55.014558Z",
     "iopub.status.idle": "2024-11-29T13:14:55.042430Z",
     "shell.execute_reply": "2024-11-29T13:14:55.041119Z"
    },
    "papermill": {
     "duration": 0.045551,
     "end_time": "2024-11-29T13:14:55.044823",
     "exception": false,
     "start_time": "2024-11-29T13:14:54.999272",
     "status": "completed"
    },
    "tags": []
   },
   "outputs": [
    {
     "data": {
      "text/plain": [
       "last contact date        0\n",
       "age                      0\n",
       "job                    229\n",
       "marital                  0\n",
       "education             1467\n",
       "default                  0\n",
       "balance                  0\n",
       "housing                  0\n",
       "loan                     0\n",
       "contact              10336\n",
       "duration                 0\n",
       "campaign                 0\n",
       "pdays                    0\n",
       "previous                 0\n",
       "poutcome             29451\n",
       "target                   0\n",
       "dtype: int64"
      ]
     },
     "execution_count": 7,
     "metadata": {},
     "output_type": "execute_result"
    }
   ],
   "source": [
    "# to get count of the missing value\n",
    "df.isnull().sum()"
   ]
  },
  {
   "cell_type": "markdown",
   "id": "be45075a",
   "metadata": {
    "papermill": {
     "duration": 0.014125,
     "end_time": "2024-11-29T13:14:55.073116",
     "exception": false,
     "start_time": "2024-11-29T13:14:55.058991",
     "status": "completed"
    },
    "tags": []
   },
   "source": []
  },
  {
   "cell_type": "code",
   "execution_count": 8,
   "id": "77364f5c",
   "metadata": {
    "execution": {
     "iopub.execute_input": "2024-11-29T13:14:55.102799Z",
     "iopub.status.busy": "2024-11-29T13:14:55.102330Z",
     "iopub.status.idle": "2024-11-29T13:14:56.333821Z",
     "shell.execute_reply": "2024-11-29T13:14:56.332538Z"
    },
    "papermill": {
     "duration": 1.249964,
     "end_time": "2024-11-29T13:14:56.336979",
     "exception": false,
     "start_time": "2024-11-29T13:14:55.087015",
     "status": "completed"
    },
    "tags": []
   },
   "outputs": [
    {
     "name": "stdout",
     "output_type": "stream",
     "text": [
      "               age   balance  duration  campaign     pdays  previous\n",
      "age       1.000000  0.289150  0.255573  0.269439  0.199507  0.277487\n",
      "balance   0.289150  1.000000  0.669737  0.674339  0.562097  0.716816\n",
      "duration  0.255573  0.669737  1.000000  0.630944  0.527020  0.683951\n",
      "campaign  0.269439  0.674339  0.630944  1.000000  0.519469  0.689211\n",
      "pdays     0.199507  0.562097  0.527020  0.519469  1.000000  0.586175\n",
      "previous  0.277487  0.716816  0.683951  0.689211  0.586175  1.000000\n"
     ]
    },
    {
     "data": {
      "text/plain": [
       "<Axes: >"
      ]
     },
     "execution_count": 8,
     "metadata": {},
     "output_type": "execute_result"
    },
    {
     "data": {
      "image/png": "[encoded data removed]",
      "text/plain": [
       "<Figure size 640x480 with 2 Axes>"
      ]
     },
     "metadata": {},
     "output_type": "display_data"
    }
   ],
   "source": [
    "import seaborn as sns\n",
    "import matplotlib.pyplot as plt\n",
    "\n",
    "df_cor=df[['age','balance','duration','campaign','pdays','previous']] \n",
    "print(df_cor.corr())  # Correlation matrix\n",
    "sns.heatmap(df_cor.corr(), annot=True, cmap='coolwarm')  # Heatmap visualization\n"
   ]
  },
  {
   "cell_type": "markdown",
   "id": "c1405400",
   "metadata": {
    "papermill": {
     "duration": 0.015055,
     "end_time": "2024-11-29T13:14:56.374772",
     "exception": false,
     "start_time": "2024-11-29T13:14:56.359717",
     "status": "completed"
    },
    "tags": []
   },
   "source": [
    "**Here there is no variable which has an corelation above 0.8 hence there is no perfect multicolinearity.**"
   ]
  },
  {
   "cell_type": "markdown",
   "id": "ad609bde",
   "metadata": {
    "papermill": {
     "duration": 0.014626,
     "end_time": "2024-11-29T13:14:56.404115",
     "exception": false,
     "start_time": "2024-11-29T13:14:56.389489",
     "status": "completed"
    },
    "tags": []
   },
   "source": [
    "# * Feature Enginering *"
   ]
  },
  {
   "cell_type": "code",
   "execution_count": 9,
   "id": "fcb207e2",
   "metadata": {
    "execution": {
     "iopub.execute_input": "2024-11-29T13:14:56.436499Z",
     "iopub.status.busy": "2024-11-29T13:14:56.435864Z",
     "iopub.status.idle": "2024-11-29T13:14:56.457635Z",
     "shell.execute_reply": "2024-11-29T13:14:56.456306Z"
    },
    "papermill": {
     "duration": 0.0417,
     "end_time": "2024-11-29T13:14:56.460597",
     "exception": false,
     "start_time": "2024-11-29T13:14:56.418897",
     "status": "completed"
    },
    "tags": []
   },
   "outputs": [],
   "source": [
    "#Standardiazation.\n",
    "# since the data for each category are spread in different ranges so that the Standardization helP to prevent the overdomianance of high valued data.\n",
    "\n",
    "from sklearn.preprocessing import StandardScaler\n",
    "\n",
    "scaler = StandardScaler()\n",
    "df[['age','balance','duration','campaign','pdays','previous']] = scaler.fit_transform(df[['age','balance','duration','campaign','pdays','previous']])  \n"
   ]
  },
  {
   "cell_type": "code",
   "execution_count": 10,
   "id": "01d5b32a",
   "metadata": {
    "execution": {
     "iopub.execute_input": "2024-11-29T13:14:56.493296Z",
     "iopub.status.busy": "2024-11-29T13:14:56.492808Z",
     "iopub.status.idle": "2024-11-29T13:14:56.527295Z",
     "shell.execute_reply": "2024-11-29T13:14:56.526134Z"
    },
    "papermill": {
     "duration": 0.054848,
     "end_time": "2024-11-29T13:14:56.530530",
     "exception": false,
     "start_time": "2024-11-29T13:14:56.475682",
     "status": "completed"
    },
    "tags": []
   },
   "outputs": [],
   "source": [
    "# for converting categorical variable to numerical  i am using the knn\n",
    "from sklearn.preprocessing import LabelEncoder\n",
    "label_encoder = LabelEncoder()\n",
    "\n",
    "# Encode the categorical columns\n",
    "df['job'] = label_encoder.fit_transform(df['job'])\n",
    "df['education'] = label_encoder.fit_transform(df['education'])\n",
    "df['marital']=label_encoder.fit_transform(df['marital'])"
   ]
  },
  {
   "cell_type": "code",
   "execution_count": 11,
   "id": "34caf089",
   "metadata": {
    "execution": {
     "iopub.execute_input": "2024-11-29T13:14:56.571329Z",
     "iopub.status.busy": "2024-11-29T13:14:56.570820Z",
     "iopub.status.idle": "2024-11-29T13:14:56.609863Z",
     "shell.execute_reply": "2024-11-29T13:14:56.608670Z"
    },
    "papermill": {
     "duration": 0.060763,
     "end_time": "2024-11-29T13:14:56.613005",
     "exception": false,
     "start_time": "2024-11-29T13:14:56.552242",
     "status": "completed"
    },
    "tags": []
   },
   "outputs": [
    {
     "name": "stdout",
     "output_type": "stream",
     "text": [
      "<class 'pandas.core.frame.DataFrame'>\n",
      "RangeIndex: 39211 entries, 0 to 39210\n",
      "Data columns (total 16 columns):\n",
      " #   Column             Non-Null Count  Dtype  \n",
      "---  ------             --------------  -----  \n",
      " 0   last contact date  39211 non-null  object \n",
      " 1   age                39211 non-null  float64\n",
      " 2   job                39211 non-null  int64  \n",
      " 3   marital            39211 non-null  int64  \n",
      " 4   education          39211 non-null  int64  \n",
      " 5   default            39211 non-null  object \n",
      " 6   balance            39211 non-null  float64\n",
      " 7   housing            39211 non-null  object \n",
      " 8   loan               39211 non-null  object \n",
      " 9   contact            28875 non-null  object \n",
      " 10  duration           39211 non-null  float64\n",
      " 11  campaign           39211 non-null  float64\n",
      " 12  pdays              39211 non-null  float64\n",
      " 13  previous           39211 non-null  float64\n",
      " 14  poutcome           9760 non-null   object \n",
      " 15  target             39211 non-null  object \n",
      "dtypes: float64(6), int64(3), object(7)\n",
      "memory usage: 4.8+ MB\n"
     ]
    }
   ],
   "source": [
    "# checking that the above converted categorical columns are converted properly.\n",
    "df.info()"
   ]
  },
  {
   "cell_type": "markdown",
   "id": "5097b4a4",
   "metadata": {
    "papermill": {
     "duration": 0.014573,
     "end_time": "2024-11-29T13:14:56.646184",
     "exception": false,
     "start_time": "2024-11-29T13:14:56.631611",
     "status": "completed"
    },
    "tags": []
   },
   "source": [
    "# missing data handling using the simple imputation "
   ]
  },
  {
   "cell_type": "markdown",
   "id": "7b7bd645",
   "metadata": {
    "papermill": {
     "duration": 0.015029,
     "end_time": "2024-11-29T13:14:56.677950",
     "exception": false,
     "start_time": "2024-11-29T13:14:56.662921",
     "status": "completed"
    },
    "tags": []
   },
   "source": [
    "I had done some simple imputation techniques in the begining .\n",
    "but it doesn't give an suitable accuracy for the model . so finaly i had this type of dealing the missig value.\n",
    "\n",
    "so i am adding those code as ref.\n",
    "\n",
    "mean_imputer = SimpleImputer(strategy='mean')\n",
    "df['job'] = mean_imputer.fit_transform(df[['job']]\n",
    "df['education']=mean_imputer.fit_transform(df[['education']]"
   ]
  },
  {
   "cell_type": "markdown",
   "id": "ee40bd63",
   "metadata": {
    "papermill": {
     "duration": 0.01487,
     "end_time": "2024-11-29T13:14:56.708429",
     "exception": false,
     "start_time": "2024-11-29T13:14:56.693559",
     "status": "completed"
    },
    "tags": []
   },
   "source": [
    "**Handling the missing value using the method knn**"
   ]
  },
  {
   "cell_type": "code",
   "execution_count": 12,
   "id": "79c29a2b",
   "metadata": {
    "execution": {
     "iopub.execute_input": "2024-11-29T13:14:56.743155Z",
     "iopub.status.busy": "2024-11-29T13:14:56.742757Z",
     "iopub.status.idle": "2024-11-29T13:14:57.164595Z",
     "shell.execute_reply": "2024-11-29T13:14:57.163508Z"
    },
    "papermill": {
     "duration": 0.441127,
     "end_time": "2024-11-29T13:14:57.167124",
     "exception": false,
     "start_time": "2024-11-29T13:14:56.725997",
     "status": "completed"
    },
    "tags": []
   },
   "outputs": [],
   "source": [
    "# Applying the Knn imputer.\n",
    "import numpy as np\n",
    "import pandas as pd\n",
    "from sklearn.impute import KNNImputer\n",
    "\n",
    "\n",
    "\n",
    "imputer = KNNImputer(n_neighbors=3)\n",
    "\n",
    "columns_to_impute = ['job', 'education']\n",
    "\n",
    "\n",
    "imputed_values = imputer.fit_transform(df[columns_to_impute])\n",
    "\n",
    "# Create a DataFrame with the imputed values\n",
    "df_imputed = pd.DataFrame(imputed_values, columns=columns_to_impute)\n",
    "\n",
    "# Combine with the original DataFrame (excluding the columns to be imputed)\n",
    "df= pd.concat([df.drop(columns=columns_to_impute), df_imputed], axis=1)\n"
   ]
  },
  {
   "cell_type": "code",
   "execution_count": 13,
   "id": "81901b98",
   "metadata": {
    "execution": {
     "iopub.execute_input": "2024-11-29T13:14:57.201246Z",
     "iopub.status.busy": "2024-11-29T13:14:57.200202Z",
     "iopub.status.idle": "2024-11-29T13:14:57.222673Z",
     "shell.execute_reply": "2024-11-29T13:14:57.221576Z"
    },
    "papermill": {
     "duration": 0.041337,
     "end_time": "2024-11-29T13:14:57.224952",
     "exception": false,
     "start_time": "2024-11-29T13:14:57.183615",
     "status": "completed"
    },
    "tags": []
   },
   "outputs": [
    {
     "data": {
      "text/plain": [
       "last contact date        0\n",
       "age                      0\n",
       "marital                  0\n",
       "default                  0\n",
       "balance                  0\n",
       "housing                  0\n",
       "loan                     0\n",
       "contact              10336\n",
       "duration                 0\n",
       "campaign                 0\n",
       "pdays                    0\n",
       "previous                 0\n",
       "poutcome             29451\n",
       "target                   0\n",
       "job                      0\n",
       "education                0\n",
       "dtype: int64"
      ]
     },
     "execution_count": 13,
     "metadata": {},
     "output_type": "execute_result"
    }
   ],
   "source": [
    "# checking that the above code worked properly.\n",
    "df.isnull().sum()"
   ]
  },
  {
   "cell_type": "markdown",
   "id": "a2404b46",
   "metadata": {
    "papermill": {
     "duration": 0.014811,
     "end_time": "2024-11-29T13:14:57.254858",
     "exception": false,
     "start_time": "2024-11-29T13:14:57.240047",
     "status": "completed"
    },
    "tags": []
   },
   "source": [
    "Since the contact and poutcome has  10336 and 29451 missing values , so removing the poutcome is  better than imputing . beacuse 75% of data is missing."
   ]
  },
  {
   "cell_type": "code",
   "execution_count": 14,
   "id": "b0636201",
   "metadata": {
    "execution": {
     "iopub.execute_input": "2024-11-29T13:14:57.287799Z",
     "iopub.status.busy": "2024-11-29T13:14:57.287348Z",
     "iopub.status.idle": "2024-11-29T13:14:57.317048Z",
     "shell.execute_reply": "2024-11-29T13:14:57.315804Z"
    },
    "papermill": {
     "duration": 0.049426,
     "end_time": "2024-11-29T13:14:57.319611",
     "exception": false,
     "start_time": "2024-11-29T13:14:57.270185",
     "status": "completed"
    },
    "tags": []
   },
   "outputs": [
    {
     "name": "stderr",
     "output_type": "stream",
     "text": [
      "/tmp/ipykernel_17/3109645675.py:4: FutureWarning: Downcasting behavior in `replace` is deprecated and will be removed in a future version. To retain the old behavior, explicitly call `result.infer_objects(copy=False)`. To opt-in to the future behavior, set `pd.set_option('future.no_silent_downcasting', True)`\n",
      "  df['target']= df['target'].replace({'yes': 1, 'no': 0})\n"
     ]
    }
   ],
   "source": [
    "# converting the categorical variable to numerical\n",
    "LE=LabelEncoder()\n",
    "df['contact'] =LE.fit_transform(df['contact'])\n",
    "df['target']= df['target'].replace({'yes': 1, 'no': 0})\n"
   ]
  },
  {
   "cell_type": "code",
   "execution_count": 15,
   "id": "0e6b040b",
   "metadata": {
    "execution": {
     "iopub.execute_input": "2024-11-29T13:14:57.351620Z",
     "iopub.status.busy": "2024-11-29T13:14:57.351208Z",
     "iopub.status.idle": "2024-11-29T13:14:57.360139Z",
     "shell.execute_reply": "2024-11-29T13:14:57.358706Z"
    },
    "papermill": {
     "duration": 0.027724,
     "end_time": "2024-11-29T13:14:57.362468",
     "exception": false,
     "start_time": "2024-11-29T13:14:57.334744",
     "status": "completed"
    },
    "tags": []
   },
   "outputs": [
    {
     "name": "stdout",
     "output_type": "stream",
     "text": [
      "-0.14192485944619734\n"
     ]
    }
   ],
   "source": [
    "# Compute correlation of the column with the target variable\n",
    "correlation_with_target = df['contact'].corr(df['target'])\n",
    "print(correlation_with_target)\n",
    "\n"
   ]
  },
  {
   "cell_type": "markdown",
   "id": "9b3b867a",
   "metadata": {
    "papermill": {
     "duration": 0.015539,
     "end_time": "2024-11-29T13:14:57.393423",
     "exception": false,
     "start_time": "2024-11-29T13:14:57.377884",
     "status": "completed"
    },
    "tags": []
   },
   "source": [
    "* As contact corelation with the target is  an weak negative corelation so removing the target doesnt have much problem. Hence the colum of contact and the poutcome are removed."
   ]
  },
  {
   "cell_type": "code",
   "execution_count": 16,
   "id": "7a579658",
   "metadata": {
    "execution": {
     "iopub.execute_input": "2024-11-29T13:14:57.426248Z",
     "iopub.status.busy": "2024-11-29T13:14:57.425856Z",
     "iopub.status.idle": "2024-11-29T13:14:57.451026Z",
     "shell.execute_reply": "2024-11-29T13:14:57.448538Z"
    },
    "papermill": {
     "duration": 0.044622,
     "end_time": "2024-11-29T13:14:57.453873",
     "exception": false,
     "start_time": "2024-11-29T13:14:57.409251",
     "status": "completed"
    },
    "tags": []
   },
   "outputs": [
    {
     "name": "stdout",
     "output_type": "stream",
     "text": [
      "<class 'pandas.core.frame.DataFrame'>\n",
      "RangeIndex: 39211 entries, 0 to 39210\n",
      "Data columns (total 14 columns):\n",
      " #   Column             Non-Null Count  Dtype  \n",
      "---  ------             --------------  -----  \n",
      " 0   last contact date  39211 non-null  object \n",
      " 1   age                39211 non-null  float64\n",
      " 2   marital            39211 non-null  int64  \n",
      " 3   default            39211 non-null  object \n",
      " 4   balance            39211 non-null  float64\n",
      " 5   housing            39211 non-null  object \n",
      " 6   loan               39211 non-null  object \n",
      " 7   duration           39211 non-null  float64\n",
      " 8   campaign           39211 non-null  float64\n",
      " 9   pdays              39211 non-null  float64\n",
      " 10  previous           39211 non-null  float64\n",
      " 11  target             39211 non-null  int64  \n",
      " 12  job                39211 non-null  float64\n",
      " 13  education          39211 non-null  float64\n",
      "dtypes: float64(8), int64(2), object(4)\n",
      "memory usage: 4.2+ MB\n"
     ]
    }
   ],
   "source": [
    "\n",
    "df = df.drop(['contact','poutcome'], axis=1)\n",
    "\n",
    "# To check the above mentioned columns are removed.\n",
    "df.info()"
   ]
  },
  {
   "cell_type": "code",
   "execution_count": 17,
   "id": "8d113e1e",
   "metadata": {
    "execution": {
     "iopub.execute_input": "2024-11-29T13:14:57.486460Z",
     "iopub.status.busy": "2024-11-29T13:14:57.486007Z",
     "iopub.status.idle": "2024-11-29T13:14:57.504021Z",
     "shell.execute_reply": "2024-11-29T13:14:57.502959Z"
    },
    "papermill": {
     "duration": 0.037169,
     "end_time": "2024-11-29T13:14:57.506403",
     "exception": false,
     "start_time": "2024-11-29T13:14:57.469234",
     "status": "completed"
    },
    "tags": []
   },
   "outputs": [
    {
     "data": {
      "text/plain": [
       "last contact date    0\n",
       "age                  0\n",
       "marital              0\n",
       "default              0\n",
       "balance              0\n",
       "housing              0\n",
       "loan                 0\n",
       "duration             0\n",
       "campaign             0\n",
       "pdays                0\n",
       "previous             0\n",
       "target               0\n",
       "job                  0\n",
       "education            0\n",
       "dtype: int64"
      ]
     },
     "execution_count": 17,
     "metadata": {},
     "output_type": "execute_result"
    }
   ],
   "source": [
    "# To check is there any missing value present in the data frame\n",
    "df.isnull().sum()"
   ]
  },
  {
   "cell_type": "markdown",
   "id": "c7a99579",
   "metadata": {
    "papermill": {
     "duration": 0.015705,
     "end_time": "2024-11-29T13:14:57.538290",
     "exception": false,
     "start_time": "2024-11-29T13:14:57.522585",
     "status": "completed"
    },
    "tags": []
   },
   "source": [
    "**Converting categorical variable into numerical variable**"
   ]
  },
  {
   "cell_type": "code",
   "execution_count": 18,
   "id": "96b95894",
   "metadata": {
    "execution": {
     "iopub.execute_input": "2024-11-29T13:14:57.571323Z",
     "iopub.status.busy": "2024-11-29T13:14:57.570216Z",
     "iopub.status.idle": "2024-11-29T13:14:57.621564Z",
     "shell.execute_reply": "2024-11-29T13:14:57.620016Z"
    },
    "papermill": {
     "duration": 0.070248,
     "end_time": "2024-11-29T13:14:57.623919",
     "exception": false,
     "start_time": "2024-11-29T13:14:57.553671",
     "status": "completed"
    },
    "tags": []
   },
   "outputs": [
    {
     "name": "stderr",
     "output_type": "stream",
     "text": [
      "/tmp/ipykernel_17/2517072312.py:3: FutureWarning: Downcasting behavior in `replace` is deprecated and will be removed in a future version. To retain the old behavior, explicitly call `result.infer_objects(copy=False)`. To opt-in to the future behavior, set `pd.set_option('future.no_silent_downcasting', True)`\n",
      "  df['default']= df['default'].replace({'yes': 1, 'no': 0})\n",
      "/tmp/ipykernel_17/2517072312.py:4: FutureWarning: Downcasting behavior in `replace` is deprecated and will be removed in a future version. To retain the old behavior, explicitly call `result.infer_objects(copy=False)`. To opt-in to the future behavior, set `pd.set_option('future.no_silent_downcasting', True)`\n",
      "  df['housing']= df['housing'].replace({'yes': 1, 'no': 0})\n",
      "/tmp/ipykernel_17/2517072312.py:5: FutureWarning: Downcasting behavior in `replace` is deprecated and will be removed in a future version. To retain the old behavior, explicitly call `result.infer_objects(copy=False)`. To opt-in to the future behavior, set `pd.set_option('future.no_silent_downcasting', True)`\n",
      "  df['loan']= df['loan'].replace({'yes': 1, 'no': 0})\n"
     ]
    }
   ],
   "source": [
    "# deafult , housing , loan colum are converted in such a way that  yes into '1' and no into '0'\n",
    "\n",
    "df['default']= df['default'].replace({'yes': 1, 'no': 0})\n",
    "df['housing']= df['housing'].replace({'yes': 1, 'no': 0})\n",
    "df['loan']= df['loan'].replace({'yes': 1, 'no': 0})"
   ]
  },
  {
   "cell_type": "markdown",
   "id": "caf2880b",
   "metadata": {
    "papermill": {
     "duration": 0.015362,
     "end_time": "2024-11-29T13:14:57.655230",
     "exception": false,
     "start_time": "2024-11-29T13:14:57.639868",
     "status": "completed"
    },
    "tags": []
   },
   "source": [
    "**Converting the categorical variable into numerical variable for the train dataset**"
   ]
  },
  {
   "cell_type": "code",
   "execution_count": 19,
   "id": "ee17bdbf",
   "metadata": {
    "execution": {
     "iopub.execute_input": "2024-11-29T13:14:57.689221Z",
     "iopub.status.busy": "2024-11-29T13:14:57.688805Z",
     "iopub.status.idle": "2024-11-29T13:14:57.722242Z",
     "shell.execute_reply": "2024-11-29T13:14:57.720825Z"
    },
    "papermill": {
     "duration": 0.05356,
     "end_time": "2024-11-29T13:14:57.725167",
     "exception": false,
     "start_time": "2024-11-29T13:14:57.671607",
     "status": "completed"
    },
    "tags": []
   },
   "outputs": [],
   "source": [
    "# converting the last contact date into numerical data\n",
    "df['last contact date'] = pd.to_datetime(df['last contact date'])\n",
    "df['year'] = df['last contact date'].dt.year\n",
    "df['month'] = df['last contact date'].dt.month\n",
    "df['day'] = df['last contact date'].dt.day\n",
    "df['day_of_week'] = df['last contact date'].dt.dayofweek\n",
    "df = df.drop('last contact date', axis=1)"
   ]
  },
  {
   "cell_type": "code",
   "execution_count": 20,
   "id": "ab47e038",
   "metadata": {
    "execution": {
     "iopub.execute_input": "2024-11-29T13:14:57.758221Z",
     "iopub.status.busy": "2024-11-29T13:14:57.757535Z",
     "iopub.status.idle": "2024-11-29T13:14:57.769123Z",
     "shell.execute_reply": "2024-11-29T13:14:57.768032Z"
    },
    "papermill": {
     "duration": 0.031,
     "end_time": "2024-11-29T13:14:57.771828",
     "exception": false,
     "start_time": "2024-11-29T13:14:57.740828",
     "status": "completed"
    },
    "tags": []
   },
   "outputs": [],
   "source": [
    "from sklearn.preprocessing import MinMaxScaler\n",
    "\n",
    "columns_to_normalize = ['year', 'month', 'day', 'day_of_week']\n",
    "\n",
    "scaler = MinMaxScaler()\n",
    "\n",
    "df[columns_to_normalize] = scaler.fit_transform(df[columns_to_normalize])\n",
    "\n"
   ]
  },
  {
   "cell_type": "code",
   "execution_count": 21,
   "id": "b412f70c",
   "metadata": {
    "execution": {
     "iopub.execute_input": "2024-11-29T13:14:57.805580Z",
     "iopub.status.busy": "2024-11-29T13:14:57.804990Z",
     "iopub.status.idle": "2024-11-29T13:14:57.819907Z",
     "shell.execute_reply": "2024-11-29T13:14:57.818340Z"
    },
    "papermill": {
     "duration": 0.034379,
     "end_time": "2024-11-29T13:14:57.822321",
     "exception": false,
     "start_time": "2024-11-29T13:14:57.787942",
     "status": "completed"
    },
    "tags": []
   },
   "outputs": [
    {
     "name": "stdout",
     "output_type": "stream",
     "text": [
      "<class 'pandas.core.frame.DataFrame'>\n",
      "RangeIndex: 39211 entries, 0 to 39210\n",
      "Data columns (total 17 columns):\n",
      " #   Column       Non-Null Count  Dtype  \n",
      "---  ------       --------------  -----  \n",
      " 0   age          39211 non-null  float64\n",
      " 1   marital      39211 non-null  int64  \n",
      " 2   default      39211 non-null  int64  \n",
      " 3   balance      39211 non-null  float64\n",
      " 4   housing      39211 non-null  int64  \n",
      " 5   loan         39211 non-null  int64  \n",
      " 6   duration     39211 non-null  float64\n",
      " 7   campaign     39211 non-null  float64\n",
      " 8   pdays        39211 non-null  float64\n",
      " 9   previous     39211 non-null  float64\n",
      " 10  target       39211 non-null  int64  \n",
      " 11  job          39211 non-null  float64\n",
      " 12  education    39211 non-null  float64\n",
      " 13  year         39211 non-null  float64\n",
      " 14  month        39211 non-null  float64\n",
      " 15  day          39211 non-null  float64\n",
      " 16  day_of_week  39211 non-null  float64\n",
      "dtypes: float64(12), int64(5)\n",
      "memory usage: 5.1 MB\n"
     ]
    }
   ],
   "source": [
    "df.info()"
   ]
  },
  {
   "cell_type": "code",
   "execution_count": 22,
   "id": "869c3ec6",
   "metadata": {
    "execution": {
     "iopub.execute_input": "2024-11-29T13:14:57.855774Z",
     "iopub.status.busy": "2024-11-29T13:14:57.855339Z",
     "iopub.status.idle": "2024-11-29T13:14:57.864192Z",
     "shell.execute_reply": "2024-11-29T13:14:57.863148Z"
    },
    "papermill": {
     "duration": 0.028169,
     "end_time": "2024-11-29T13:14:57.866699",
     "exception": false,
     "start_time": "2024-11-29T13:14:57.838530",
     "status": "completed"
    },
    "tags": []
   },
   "outputs": [],
   "source": [
    "y=df['target']\n",
    "x=df.drop(['target'],axis=1)\n"
   ]
  },
  {
   "cell_type": "code",
   "execution_count": 23,
   "id": "72afcf47",
   "metadata": {
    "execution": {
     "iopub.execute_input": "2024-11-29T13:14:57.899747Z",
     "iopub.status.busy": "2024-11-29T13:14:57.899320Z",
     "iopub.status.idle": "2024-11-29T13:14:57.903782Z",
     "shell.execute_reply": "2024-11-29T13:14:57.902888Z"
    },
    "papermill": {
     "duration": 0.022979,
     "end_time": "2024-11-29T13:14:57.905718",
     "exception": false,
     "start_time": "2024-11-29T13:14:57.882739",
     "status": "completed"
    },
    "tags": []
   },
   "outputs": [],
   "source": [
    "x_train=x\n",
    "y_train=y"
   ]
  },
  {
   "cell_type": "code",
   "execution_count": 24,
   "id": "2cd27b3f",
   "metadata": {
    "execution": {
     "iopub.execute_input": "2024-11-29T13:14:57.938314Z",
     "iopub.status.busy": "2024-11-29T13:14:57.937919Z",
     "iopub.status.idle": "2024-11-29T13:14:57.944547Z",
     "shell.execute_reply": "2024-11-29T13:14:57.943414Z"
    },
    "papermill": {
     "duration": 0.025413,
     "end_time": "2024-11-29T13:14:57.946677",
     "exception": false,
     "start_time": "2024-11-29T13:14:57.921264",
     "status": "completed"
    },
    "tags": []
   },
   "outputs": [
    {
     "data": {
      "text/plain": [
       "(39211, 17)"
      ]
     },
     "execution_count": 24,
     "metadata": {},
     "output_type": "execute_result"
    }
   ],
   "source": [
    "df.shape"
   ]
  },
  {
   "cell_type": "markdown",
   "id": "1f5661e3",
   "metadata": {
    "papermill": {
     "duration": 0.01542,
     "end_time": "2024-11-29T13:14:57.977659",
     "exception": false,
     "start_time": "2024-11-29T13:14:57.962239",
     "status": "completed"
    },
    "tags": []
   },
   "source": [
    "#  For the test data set "
   ]
  },
  {
   "cell_type": "code",
   "execution_count": 25,
   "id": "7c7761db",
   "metadata": {
    "execution": {
     "iopub.execute_input": "2024-11-29T13:14:58.011044Z",
     "iopub.status.busy": "2024-11-29T13:14:58.010633Z",
     "iopub.status.idle": "2024-11-29T13:14:58.052837Z",
     "shell.execute_reply": "2024-11-29T13:14:58.051773Z"
    },
    "papermill": {
     "duration": 0.062105,
     "end_time": "2024-11-29T13:14:58.055197",
     "exception": false,
     "start_time": "2024-11-29T13:14:57.993092",
     "status": "completed"
    },
    "tags": []
   },
   "outputs": [],
   "source": [
    "# read the dataframe into df_t\n",
    "\n",
    "df_t=pd.read_csv('/kaggle/input/predict-the-success-of-bank-telemarketing/test.csv')"
   ]
  },
  {
   "cell_type": "code",
   "execution_count": 26,
   "id": "99accffb",
   "metadata": {
    "execution": {
     "iopub.execute_input": "2024-11-29T13:14:58.088654Z",
     "iopub.status.busy": "2024-11-29T13:14:58.088250Z",
     "iopub.status.idle": "2024-11-29T13:14:58.094933Z",
     "shell.execute_reply": "2024-11-29T13:14:58.093844Z"
    },
    "papermill": {
     "duration": 0.026328,
     "end_time": "2024-11-29T13:14:58.097157",
     "exception": false,
     "start_time": "2024-11-29T13:14:58.070829",
     "status": "completed"
    },
    "tags": []
   },
   "outputs": [
    {
     "data": {
      "text/plain": [
       "(10000, 15)"
      ]
     },
     "execution_count": 26,
     "metadata": {},
     "output_type": "execute_result"
    }
   ],
   "source": [
    "df_t.shape"
   ]
  },
  {
   "cell_type": "code",
   "execution_count": 27,
   "id": "8313c4dd",
   "metadata": {
    "execution": {
     "iopub.execute_input": "2024-11-29T13:14:58.131714Z",
     "iopub.status.busy": "2024-11-29T13:14:58.131295Z",
     "iopub.status.idle": "2024-11-29T13:14:58.147515Z",
     "shell.execute_reply": "2024-11-29T13:14:58.146141Z"
    },
    "papermill": {
     "duration": 0.03687,
     "end_time": "2024-11-29T13:14:58.150062",
     "exception": false,
     "start_time": "2024-11-29T13:14:58.113192",
     "status": "completed"
    },
    "tags": []
   },
   "outputs": [
    {
     "name": "stdout",
     "output_type": "stream",
     "text": [
      "<class 'pandas.core.frame.DataFrame'>\n",
      "RangeIndex: 10000 entries, 0 to 9999\n",
      "Data columns (total 15 columns):\n",
      " #   Column             Non-Null Count  Dtype \n",
      "---  ------             --------------  ----- \n",
      " 0   last contact date  10000 non-null  object\n",
      " 1   age                10000 non-null  int64 \n",
      " 2   job                9941 non-null   object\n",
      " 3   marital            10000 non-null  object\n",
      " 4   education          9610 non-null   object\n",
      " 5   default            10000 non-null  object\n",
      " 6   balance            10000 non-null  int64 \n",
      " 7   housing            10000 non-null  object\n",
      " 8   loan               10000 non-null  object\n",
      " 9   contact            7316 non-null   object\n",
      " 10  duration           10000 non-null  int64 \n",
      " 11  campaign           10000 non-null  int64 \n",
      " 12  pdays              10000 non-null  int64 \n",
      " 13  previous           10000 non-null  int64 \n",
      " 14  poutcome           2492 non-null   object\n",
      "dtypes: int64(6), object(9)\n",
      "memory usage: 1.1+ MB\n"
     ]
    }
   ],
   "source": [
    "# To get the datatype of each coloum, total number of data , coloum names and number of coloums used in data\n",
    "df_t.info()"
   ]
  },
  {
   "cell_type": "markdown",
   "id": "feb4761a",
   "metadata": {
    "papermill": {
     "duration": 0.015671,
     "end_time": "2024-11-29T13:14:58.182220",
     "exception": false,
     "start_time": "2024-11-29T13:14:58.166549",
     "status": "completed"
    },
    "tags": []
   },
   "source": [
    "# feature enginering"
   ]
  },
  {
   "cell_type": "code",
   "execution_count": 28,
   "id": "5cff1dbf",
   "metadata": {
    "execution": {
     "iopub.execute_input": "2024-11-29T13:14:58.216016Z",
     "iopub.status.busy": "2024-11-29T13:14:58.215635Z",
     "iopub.status.idle": "2024-11-29T13:14:58.229272Z",
     "shell.execute_reply": "2024-11-29T13:14:58.228229Z"
    },
    "papermill": {
     "duration": 0.033431,
     "end_time": "2024-11-29T13:14:58.231776",
     "exception": false,
     "start_time": "2024-11-29T13:14:58.198345",
     "status": "completed"
    },
    "tags": []
   },
   "outputs": [],
   "source": [
    "#Standardiazation.\n",
    "# since the data for each category are spread in different ranges so that the Standardization helP to prevent the overdomianance of high valued data.\n",
    "\n",
    "from sklearn.preprocessing import StandardScaler\n",
    "\n",
    "scaler = StandardScaler()\n",
    "df_t[['age','balance','duration','campaign','pdays','previous']] = scaler.fit_transform(df_t[['age','balance','duration','campaign','pdays','previous']])  \n"
   ]
  },
  {
   "cell_type": "code",
   "execution_count": 29,
   "id": "78e046c5",
   "metadata": {
    "execution": {
     "iopub.execute_input": "2024-11-29T13:14:58.265655Z",
     "iopub.status.busy": "2024-11-29T13:14:58.265195Z",
     "iopub.status.idle": "2024-11-29T13:14:58.278594Z",
     "shell.execute_reply": "2024-11-29T13:14:58.277437Z"
    },
    "papermill": {
     "duration": 0.033093,
     "end_time": "2024-11-29T13:14:58.280973",
     "exception": false,
     "start_time": "2024-11-29T13:14:58.247880",
     "status": "completed"
    },
    "tags": []
   },
   "outputs": [],
   "source": [
    "# for converting categorical variable to numerical \n",
    "from sklearn.preprocessing import LabelEncoder\n",
    "label_encoder = LabelEncoder()\n",
    "\n",
    "# Encode the categorical columns\n",
    "df_t['job'] = label_encoder.fit_transform(df_t['job'])\n",
    "df_t['education'] = label_encoder.fit_transform(df_t['education'])\n",
    "df_t['marital']=label_encoder.fit_transform(df_t['marital'])"
   ]
  },
  {
   "cell_type": "markdown",
   "id": "41762ed4",
   "metadata": {
    "papermill": {
     "duration": 0.01615,
     "end_time": "2024-11-29T13:14:58.313095",
     "exception": false,
     "start_time": "2024-11-29T13:14:58.296945",
     "status": "completed"
    },
    "tags": []
   },
   "source": [
    "**inorder to fill the missing value using the knn**"
   ]
  },
  {
   "cell_type": "code",
   "execution_count": 30,
   "id": "1f39c2d3",
   "metadata": {
    "execution": {
     "iopub.execute_input": "2024-11-29T13:14:58.347207Z",
     "iopub.status.busy": "2024-11-29T13:14:58.346539Z",
     "iopub.status.idle": "2024-11-29T13:14:58.362055Z",
     "shell.execute_reply": "2024-11-29T13:14:58.360868Z"
    },
    "papermill": {
     "duration": 0.03525,
     "end_time": "2024-11-29T13:14:58.364573",
     "exception": false,
     "start_time": "2024-11-29T13:14:58.329323",
     "status": "completed"
    },
    "tags": []
   },
   "outputs": [],
   "source": [
    "import numpy as np\n",
    "import pandas as pd\n",
    "from sklearn.impute import KNNImputer\n",
    "\n",
    "\n",
    "\n",
    "imputer = KNNImputer(n_neighbors=3)\n",
    "\n",
    "columns_to_impute = ['job', 'education']\n",
    "\n",
    "\n",
    "imputed_values = imputer.fit_transform(df_t[columns_to_impute])\n",
    "\n",
    "# Create a DataFrame with the imputed values\n",
    "df_t_imputed = pd.DataFrame(imputed_values, columns=columns_to_impute)\n",
    "\n",
    "# Combine with the original DataFrame (excluding the columns to be imputed)\n",
    "df_t = pd.concat([df_t.drop(columns=columns_to_impute), df_t_imputed], axis=1)\n"
   ]
  },
  {
   "cell_type": "code",
   "execution_count": 31,
   "id": "4c12eaf6",
   "metadata": {
    "execution": {
     "iopub.execute_input": "2024-11-29T13:14:58.398454Z",
     "iopub.status.busy": "2024-11-29T13:14:58.397576Z",
     "iopub.status.idle": "2024-11-29T13:14:58.404276Z",
     "shell.execute_reply": "2024-11-29T13:14:58.403305Z"
    },
    "papermill": {
     "duration": 0.02747,
     "end_time": "2024-11-29T13:14:58.407899",
     "exception": false,
     "start_time": "2024-11-29T13:14:58.380429",
     "status": "completed"
    },
    "tags": []
   },
   "outputs": [],
   "source": [
    "# Remove the coloum poutcome and contact as it is removed from the train data set\n",
    "df_t=df_t.drop(['contact','poutcome'],axis=1)"
   ]
  },
  {
   "cell_type": "code",
   "execution_count": 32,
   "id": "f64d81a6",
   "metadata": {
    "execution": {
     "iopub.execute_input": "2024-11-29T13:14:58.442578Z",
     "iopub.status.busy": "2024-11-29T13:14:58.442173Z",
     "iopub.status.idle": "2024-11-29T13:14:58.454380Z",
     "shell.execute_reply": "2024-11-29T13:14:58.453015Z"
    },
    "papermill": {
     "duration": 0.032388,
     "end_time": "2024-11-29T13:14:58.456830",
     "exception": false,
     "start_time": "2024-11-29T13:14:58.424442",
     "status": "completed"
    },
    "tags": []
   },
   "outputs": [
    {
     "data": {
      "text/plain": [
       "last contact date    0\n",
       "age                  0\n",
       "marital              0\n",
       "default              0\n",
       "balance              0\n",
       "housing              0\n",
       "loan                 0\n",
       "duration             0\n",
       "campaign             0\n",
       "pdays                0\n",
       "previous             0\n",
       "job                  0\n",
       "education            0\n",
       "dtype: int64"
      ]
     },
     "execution_count": 32,
     "metadata": {},
     "output_type": "execute_result"
    }
   ],
   "source": [
    "# checking for the missing value present\n",
    "df_t.isna().sum()"
   ]
  },
  {
   "cell_type": "code",
   "execution_count": 33,
   "id": "3381ca76",
   "metadata": {
    "execution": {
     "iopub.execute_input": "2024-11-29T13:14:58.492848Z",
     "iopub.status.busy": "2024-11-29T13:14:58.491992Z",
     "iopub.status.idle": "2024-11-29T13:14:58.505949Z",
     "shell.execute_reply": "2024-11-29T13:14:58.504813Z"
    },
    "papermill": {
     "duration": 0.034616,
     "end_time": "2024-11-29T13:14:58.508270",
     "exception": false,
     "start_time": "2024-11-29T13:14:58.473654",
     "status": "completed"
    },
    "tags": []
   },
   "outputs": [
    {
     "name": "stdout",
     "output_type": "stream",
     "text": [
      "<class 'pandas.core.frame.DataFrame'>\n",
      "RangeIndex: 10000 entries, 0 to 9999\n",
      "Data columns (total 13 columns):\n",
      " #   Column             Non-Null Count  Dtype  \n",
      "---  ------             --------------  -----  \n",
      " 0   last contact date  10000 non-null  object \n",
      " 1   age                10000 non-null  float64\n",
      " 2   marital            10000 non-null  int64  \n",
      " 3   default            10000 non-null  object \n",
      " 4   balance            10000 non-null  float64\n",
      " 5   housing            10000 non-null  object \n",
      " 6   loan               10000 non-null  object \n",
      " 7   duration           10000 non-null  float64\n",
      " 8   campaign           10000 non-null  float64\n",
      " 9   pdays              10000 non-null  float64\n",
      " 10  previous           10000 non-null  float64\n",
      " 11  job                10000 non-null  float64\n",
      " 12  education          10000 non-null  float64\n",
      "dtypes: float64(8), int64(1), object(4)\n",
      "memory usage: 1015.8+ KB\n"
     ]
    }
   ],
   "source": [
    "df_t.info()"
   ]
  },
  {
   "cell_type": "code",
   "execution_count": 34,
   "id": "ffd1d2af",
   "metadata": {
    "execution": {
     "iopub.execute_input": "2024-11-29T13:14:58.542160Z",
     "iopub.status.busy": "2024-11-29T13:14:58.541791Z",
     "iopub.status.idle": "2024-11-29T13:14:58.551914Z",
     "shell.execute_reply": "2024-11-29T13:14:58.550842Z"
    },
    "papermill": {
     "duration": 0.030144,
     "end_time": "2024-11-29T13:14:58.554458",
     "exception": false,
     "start_time": "2024-11-29T13:14:58.524314",
     "status": "completed"
    },
    "tags": []
   },
   "outputs": [],
   "source": [
    "# converting the categorical variable into numerical variable\n",
    "\n",
    "df_t['default'] = df['default'].replace({'yes': 1, 'no': 0})\n",
    "df_t['housing'] = df['housing'].replace({'yes': 1, 'no': 0})\n",
    "df_t['loan'] = df['loan'].replace({'yes': 1, 'no': 0})"
   ]
  },
  {
   "cell_type": "code",
   "execution_count": 35,
   "id": "41e41b7a",
   "metadata": {
    "execution": {
     "iopub.execute_input": "2024-11-29T13:14:58.589162Z",
     "iopub.status.busy": "2024-11-29T13:14:58.588800Z",
     "iopub.status.idle": "2024-11-29T13:14:58.603243Z",
     "shell.execute_reply": "2024-11-29T13:14:58.601902Z"
    },
    "papermill": {
     "duration": 0.035074,
     "end_time": "2024-11-29T13:14:58.606094",
     "exception": false,
     "start_time": "2024-11-29T13:14:58.571020",
     "status": "completed"
    },
    "tags": []
   },
   "outputs": [
    {
     "name": "stdout",
     "output_type": "stream",
     "text": [
      "<class 'pandas.core.frame.DataFrame'>\n",
      "RangeIndex: 10000 entries, 0 to 9999\n",
      "Data columns (total 13 columns):\n",
      " #   Column             Non-Null Count  Dtype  \n",
      "---  ------             --------------  -----  \n",
      " 0   last contact date  10000 non-null  object \n",
      " 1   age                10000 non-null  float64\n",
      " 2   marital            10000 non-null  int64  \n",
      " 3   default            10000 non-null  int64  \n",
      " 4   balance            10000 non-null  float64\n",
      " 5   housing            10000 non-null  int64  \n",
      " 6   loan               10000 non-null  int64  \n",
      " 7   duration           10000 non-null  float64\n",
      " 8   campaign           10000 non-null  float64\n",
      " 9   pdays              10000 non-null  float64\n",
      " 10  previous           10000 non-null  float64\n",
      " 11  job                10000 non-null  float64\n",
      " 12  education          10000 non-null  float64\n",
      "dtypes: float64(8), int64(4), object(1)\n",
      "memory usage: 1015.8+ KB\n"
     ]
    }
   ],
   "source": [
    "# Check that all categorical variable are converted into numerical variable.\n",
    "\n",
    "df_t.info()"
   ]
  },
  {
   "cell_type": "code",
   "execution_count": 36,
   "id": "28d28ce3",
   "metadata": {
    "execution": {
     "iopub.execute_input": "2024-11-29T13:14:58.641252Z",
     "iopub.status.busy": "2024-11-29T13:14:58.640880Z",
     "iopub.status.idle": "2024-11-29T13:14:58.656309Z",
     "shell.execute_reply": "2024-11-29T13:14:58.655127Z"
    },
    "papermill": {
     "duration": 0.036535,
     "end_time": "2024-11-29T13:14:58.659027",
     "exception": false,
     "start_time": "2024-11-29T13:14:58.622492",
     "status": "completed"
    },
    "tags": []
   },
   "outputs": [],
   "source": [
    "# converting the last contact date into numerical\n",
    "df_t['last contact date'] = pd.to_datetime(df_t['last contact date'],errors='coerce')\n",
    "\n",
    "\n",
    "df_t['year'] = df_t['last contact date'].dt.year\n",
    "df_t['month'] = df_t['last contact date'].dt.month\n",
    "df_t['day'] = df_t['last contact date'].dt.day\n",
    "df_t['day_of_week'] = df_t['last contact date'].dt.dayofweek\n",
    "\n",
    "\n",
    "df_t = df_t.drop('last contact date', axis=1)\n"
   ]
  },
  {
   "cell_type": "code",
   "execution_count": 37,
   "id": "a0f2de73",
   "metadata": {
    "execution": {
     "iopub.execute_input": "2024-11-29T13:14:58.749637Z",
     "iopub.status.busy": "2024-11-29T13:14:58.749248Z",
     "iopub.status.idle": "2024-11-29T13:14:58.759710Z",
     "shell.execute_reply": "2024-11-29T13:14:58.758734Z"
    },
    "papermill": {
     "duration": 0.030775,
     "end_time": "2024-11-29T13:14:58.762131",
     "exception": false,
     "start_time": "2024-11-29T13:14:58.731356",
     "status": "completed"
    },
    "tags": []
   },
   "outputs": [],
   "source": [
    "from sklearn.preprocessing import MinMaxScaler\n",
    "\n",
    "columns_to_normalize = ['year', 'month', 'day', 'day_of_week']\n",
    "\n",
    "scaler = MinMaxScaler()\n",
    "\n",
    "df_t[columns_to_normalize] = scaler.fit_transform(df_t[columns_to_normalize])\n",
    "\n"
   ]
  },
  {
   "cell_type": "code",
   "execution_count": 38,
   "id": "04f09044",
   "metadata": {
    "execution": {
     "iopub.execute_input": "2024-11-29T13:14:58.796813Z",
     "iopub.status.busy": "2024-11-29T13:14:58.796356Z",
     "iopub.status.idle": "2024-11-29T13:14:58.807284Z",
     "shell.execute_reply": "2024-11-29T13:14:58.806054Z"
    },
    "papermill": {
     "duration": 0.031267,
     "end_time": "2024-11-29T13:14:58.810019",
     "exception": false,
     "start_time": "2024-11-29T13:14:58.778752",
     "status": "completed"
    },
    "tags": []
   },
   "outputs": [
    {
     "data": {
      "text/plain": [
       "age            0\n",
       "marital        0\n",
       "default        0\n",
       "balance        0\n",
       "housing        0\n",
       "loan           0\n",
       "duration       0\n",
       "campaign       0\n",
       "pdays          0\n",
       "previous       0\n",
       "job            0\n",
       "education      0\n",
       "year           0\n",
       "month          0\n",
       "day            0\n",
       "day_of_week    0\n",
       "dtype: int64"
      ]
     },
     "execution_count": 38,
     "metadata": {},
     "output_type": "execute_result"
    }
   ],
   "source": [
    "# check that missing data present.\n",
    "df_t.isna().sum()"
   ]
  },
  {
   "cell_type": "code",
   "execution_count": 39,
   "id": "6f2a1022",
   "metadata": {
    "execution": {
     "iopub.execute_input": "2024-11-29T13:14:58.845019Z",
     "iopub.status.busy": "2024-11-29T13:14:58.844073Z",
     "iopub.status.idle": "2024-11-29T13:14:58.849121Z",
     "shell.execute_reply": "2024-11-29T13:14:58.847810Z"
    },
    "papermill": {
     "duration": 0.025055,
     "end_time": "2024-11-29T13:14:58.851275",
     "exception": false,
     "start_time": "2024-11-29T13:14:58.826220",
     "status": "completed"
    },
    "tags": []
   },
   "outputs": [],
   "source": [
    "# Renaming the df_t as x_test.\n",
    "x_test=df_t\n"
   ]
  },
  {
   "cell_type": "markdown",
   "id": "eaed8206",
   "metadata": {
    "papermill": {
     "duration": 0.016165,
     "end_time": "2024-11-29T13:14:58.884058",
     "exception": false,
     "start_time": "2024-11-29T13:14:58.867893",
     "status": "completed"
    },
    "tags": []
   },
   "source": [
    " Cross checking that, is there any mismatch in terms or arrangement of coloumns , datatypes, etc"
   ]
  },
  {
   "cell_type": "code",
   "execution_count": 40,
   "id": "479231df",
   "metadata": {
    "execution": {
     "iopub.execute_input": "2024-11-29T13:14:58.918360Z",
     "iopub.status.busy": "2024-11-29T13:14:58.917986Z",
     "iopub.status.idle": "2024-11-29T13:14:58.930222Z",
     "shell.execute_reply": "2024-11-29T13:14:58.928852Z"
    },
    "papermill": {
     "duration": 0.032041,
     "end_time": "2024-11-29T13:14:58.932573",
     "exception": false,
     "start_time": "2024-11-29T13:14:58.900532",
     "status": "completed"
    },
    "tags": []
   },
   "outputs": [
    {
     "name": "stdout",
     "output_type": "stream",
     "text": [
      "<class 'pandas.core.frame.DataFrame'>\n",
      "RangeIndex: 10000 entries, 0 to 9999\n",
      "Data columns (total 16 columns):\n",
      " #   Column       Non-Null Count  Dtype  \n",
      "---  ------       --------------  -----  \n",
      " 0   age          10000 non-null  float64\n",
      " 1   marital      10000 non-null  int64  \n",
      " 2   default      10000 non-null  int64  \n",
      " 3   balance      10000 non-null  float64\n",
      " 4   housing      10000 non-null  int64  \n",
      " 5   loan         10000 non-null  int64  \n",
      " 6   duration     10000 non-null  float64\n",
      " 7   campaign     10000 non-null  float64\n",
      " 8   pdays        10000 non-null  float64\n",
      " 9   previous     10000 non-null  float64\n",
      " 10  job          10000 non-null  float64\n",
      " 11  education    10000 non-null  float64\n",
      " 12  year         10000 non-null  float64\n",
      " 13  month        10000 non-null  float64\n",
      " 14  day          10000 non-null  float64\n",
      " 15  day_of_week  10000 non-null  float64\n",
      "dtypes: float64(12), int64(4)\n",
      "memory usage: 1.2 MB\n"
     ]
    }
   ],
   "source": [
    "x_test.info()"
   ]
  },
  {
   "cell_type": "code",
   "execution_count": 41,
   "id": "fbccd6f9",
   "metadata": {
    "execution": {
     "iopub.execute_input": "2024-11-29T13:14:58.967246Z",
     "iopub.status.busy": "2024-11-29T13:14:58.966822Z",
     "iopub.status.idle": "2024-11-29T13:14:58.982407Z",
     "shell.execute_reply": "2024-11-29T13:14:58.980942Z"
    },
    "papermill": {
     "duration": 0.035826,
     "end_time": "2024-11-29T13:14:58.984832",
     "exception": false,
     "start_time": "2024-11-29T13:14:58.949006",
     "status": "completed"
    },
    "tags": []
   },
   "outputs": [
    {
     "name": "stdout",
     "output_type": "stream",
     "text": [
      "<class 'pandas.core.frame.DataFrame'>\n",
      "RangeIndex: 39211 entries, 0 to 39210\n",
      "Data columns (total 16 columns):\n",
      " #   Column       Non-Null Count  Dtype  \n",
      "---  ------       --------------  -----  \n",
      " 0   age          39211 non-null  float64\n",
      " 1   marital      39211 non-null  int64  \n",
      " 2   default      39211 non-null  int64  \n",
      " 3   balance      39211 non-null  float64\n",
      " 4   housing      39211 non-null  int64  \n",
      " 5   loan         39211 non-null  int64  \n",
      " 6   duration     39211 non-null  float64\n",
      " 7   campaign     39211 non-null  float64\n",
      " 8   pdays        39211 non-null  float64\n",
      " 9   previous     39211 non-null  float64\n",
      " 10  job          39211 non-null  float64\n",
      " 11  education    39211 non-null  float64\n",
      " 12  year         39211 non-null  float64\n",
      " 13  month        39211 non-null  float64\n",
      " 14  day          39211 non-null  float64\n",
      " 15  day_of_week  39211 non-null  float64\n",
      "dtypes: float64(12), int64(4)\n",
      "memory usage: 4.8 MB\n"
     ]
    }
   ],
   "source": [
    "x_train.info()"
   ]
  },
  {
   "cell_type": "code",
   "execution_count": 42,
   "id": "254552fc",
   "metadata": {
    "execution": {
     "iopub.execute_input": "2024-11-29T13:14:59.019730Z",
     "iopub.status.busy": "2024-11-29T13:14:59.019309Z",
     "iopub.status.idle": "2024-11-29T13:14:59.025005Z",
     "shell.execute_reply": "2024-11-29T13:14:59.023754Z"
    },
    "papermill": {
     "duration": 0.026001,
     "end_time": "2024-11-29T13:14:59.027330",
     "exception": false,
     "start_time": "2024-11-29T13:14:59.001329",
     "status": "completed"
    },
    "tags": []
   },
   "outputs": [
    {
     "name": "stdout",
     "output_type": "stream",
     "text": [
      "X_train and X_test have the same columns.\n"
     ]
    }
   ],
   "source": [
    "# Check if columns are identical in both dataframes\n",
    "if list(x_train.columns) == list(x_test.columns):\n",
    "    print(\"X_train and X_test have the same columns.\")\n",
    "else:\n",
    "    print(\"X_train and X_test do NOT have the same columns.\")\n"
   ]
  },
  {
   "cell_type": "code",
   "execution_count": 43,
   "id": "adb133d7",
   "metadata": {
    "execution": {
     "iopub.execute_input": "2024-11-29T13:14:59.062583Z",
     "iopub.status.busy": "2024-11-29T13:14:59.062177Z",
     "iopub.status.idle": "2024-11-29T13:14:59.067440Z",
     "shell.execute_reply": "2024-11-29T13:14:59.066356Z"
    },
    "papermill": {
     "duration": 0.025367,
     "end_time": "2024-11-29T13:14:59.069696",
     "exception": false,
     "start_time": "2024-11-29T13:14:59.044329",
     "status": "completed"
    },
    "tags": []
   },
   "outputs": [
    {
     "name": "stdout",
     "output_type": "stream",
     "text": [
      "(39211, 16) (10000, 16)\n"
     ]
    }
   ],
   "source": [
    "print(x_train.shape,x_test.shape)"
   ]
  },
  {
   "cell_type": "markdown",
   "id": "ea6b8722",
   "metadata": {
    "papermill": {
     "duration": 0.016594,
     "end_time": "2024-11-29T13:14:59.102891",
     "exception": false,
     "start_time": "2024-11-29T13:14:59.086297",
     "status": "completed"
    },
    "tags": []
   },
   "source": [
    "# Model training"
   ]
  },
  {
   "cell_type": "code",
   "execution_count": 44,
   "id": "bc88ba93",
   "metadata": {
    "execution": {
     "iopub.execute_input": "2024-11-29T13:14:59.137701Z",
     "iopub.status.busy": "2024-11-29T13:14:59.137273Z",
     "iopub.status.idle": "2024-11-29T13:14:59.142477Z",
     "shell.execute_reply": "2024-11-29T13:14:59.141210Z"
    },
    "papermill": {
     "duration": 0.025296,
     "end_time": "2024-11-29T13:14:59.144727",
     "exception": false,
     "start_time": "2024-11-29T13:14:59.119431",
     "status": "completed"
    },
    "tags": []
   },
   "outputs": [],
   "source": [
    "from sklearn.metrics import confusion_matrix, classification_report"
   ]
  },
  {
   "cell_type": "code",
   "execution_count": 45,
   "id": "62e8725d",
   "metadata": {
    "execution": {
     "iopub.execute_input": "2024-11-29T13:14:59.181029Z",
     "iopub.status.busy": "2024-11-29T13:14:59.180669Z",
     "iopub.status.idle": "2024-11-29T13:14:59.198542Z",
     "shell.execute_reply": "2024-11-29T13:14:59.197459Z"
    },
    "papermill": {
     "duration": 0.039033,
     "end_time": "2024-11-29T13:14:59.201020",
     "exception": false,
     "start_time": "2024-11-29T13:14:59.161987",
     "status": "completed"
    },
    "tags": []
   },
   "outputs": [],
   "source": [
    "# train and validation split help to check the model performance\n",
    "\n",
    "from sklearn.model_selection import train_test_split\n",
    "\n",
    "\n",
    "x_train, x_val, y_train, y_val = train_test_split(x, y, test_size=0.2, random_state=42)\n",
    "\n",
    "\n"
   ]
  },
  {
   "cell_type": "markdown",
   "id": "65d8cfbc",
   "metadata": {
    "papermill": {
     "duration": 0.017226,
     "end_time": "2024-11-29T13:14:59.234813",
     "exception": false,
     "start_time": "2024-11-29T13:14:59.217587",
     "status": "completed"
    },
    "tags": []
   },
   "source": [
    "# logistic reg"
   ]
  },
  {
   "cell_type": "code",
   "execution_count": 46,
   "id": "393cebdb",
   "metadata": {
    "execution": {
     "iopub.execute_input": "2024-11-29T13:14:59.271624Z",
     "iopub.status.busy": "2024-11-29T13:14:59.270639Z",
     "iopub.status.idle": "2024-11-29T13:14:59.568160Z",
     "shell.execute_reply": "2024-11-29T13:14:59.565438Z"
    },
    "papermill": {
     "duration": 0.320825,
     "end_time": "2024-11-29T13:14:59.572452",
     "exception": false,
     "start_time": "2024-11-29T13:14:59.251627",
     "status": "completed"
    },
    "tags": []
   },
   "outputs": [
    {
     "data": {
      "text/html": [
       "<style>#sk-container-id-1 {color: black;background-color: white;}#sk-container-id-1 pre{padding: 0;}#sk-container-id-1 div.sk-toggleable {background-color: white;}#sk-container-id-1 label.sk-toggleable__label {cursor: pointer;display: block;width: 100%;margin-bottom: 0;padding: 0.3em;box-sizing: border-box;text-align: center;}#sk-container-id-1 label.sk-toggleable__label-arrow:before {content: \"▸\";float: left;margin-right: 0.25em;color: #696969;}#sk-container-id-1 label.sk-toggleable__label-arrow:hover:before {color: black;}#sk-container-id-1 div.sk-estimator:hover label.sk-toggleable__label-arrow:before {color: black;}#sk-container-id-1 div.sk-toggleable__content {max-height: 0;max-width: 0;overflow: hidden;text-align: left;background-color: #f0f8ff;}#sk-container-id-1 div.sk-toggleable__content pre {margin: 0.2em;color: black;border-radius: 0.25em;background-color: #f0f8ff;}#sk-container-id-1 input.sk-toggleable__control:checked~div.sk-toggleable__content {max-height: 200px;max-width: 100%;overflow: auto;}#sk-container-id-1 input.sk-toggleable__control:checked~label.sk-toggleable__label-arrow:before {content: \"▾\";}#sk-container-id-1 div.sk-estimator input.sk-toggleable__control:checked~label.sk-toggleable__label {background-color: #d4ebff;}#sk-container-id-1 div.sk-label input.sk-toggleable__control:checked~label.sk-toggleable__label {background-color: #d4ebff;}#sk-container-id-1 input.sk-hidden--visually {border: 0;clip: rect(1px 1px 1px 1px);clip: rect(1px, 1px, 1px, 1px);height: 1px;margin: -1px;overflow: hidden;padding: 0;position: absolute;width: 1px;}#sk-container-id-1 div.sk-estimator {font-family: monospace;background-color: #f0f8ff;border: 1px dotted black;border-radius: 0.25em;box-sizing: border-box;margin-bottom: 0.5em;}#sk-container-id-1 div.sk-estimator:hover {background-color: #d4ebff;}#sk-container-id-1 div.sk-parallel-item::after {content: \"\";width: 100%;border-bottom: 1px solid gray;flex-grow: 1;}#sk-container-id-1 div.sk-label:hover label.sk-toggleable__label {background-color: #d4ebff;}#sk-container-id-1 div.sk-serial::before {content: \"\";position: absolute;border-left: 1px solid gray;box-sizing: border-box;top: 0;bottom: 0;left: 50%;z-index: 0;}#sk-container-id-1 div.sk-serial {display: flex;flex-direction: column;align-items: center;background-color: white;padding-right: 0.2em;padding-left: 0.2em;position: relative;}#sk-container-id-1 div.sk-item {position: relative;z-index: 1;}#sk-container-id-1 div.sk-parallel {display: flex;align-items: stretch;justify-content: center;background-color: white;position: relative;}#sk-container-id-1 div.sk-item::before, #sk-container-id-1 div.sk-parallel-item::before {content: \"\";position: absolute;border-left: 1px solid gray;box-sizing: border-box;top: 0;bottom: 0;left: 50%;z-index: -1;}#sk-container-id-1 div.sk-parallel-item {display: flex;flex-direction: column;z-index: 1;position: relative;background-color: white;}#sk-container-id-1 div.sk-parallel-item:first-child::after {align-self: flex-end;width: 50%;}#sk-container-id-1 div.sk-parallel-item:last-child::after {align-self: flex-start;width: 50%;}#sk-container-id-1 div.sk-parallel-item:only-child::after {width: 0;}#sk-container-id-1 div.sk-dashed-wrapped {border: 1px dashed gray;margin: 0 0.4em 0.5em 0.4em;box-sizing: border-box;padding-bottom: 0.4em;background-color: white;}#sk-container-id-1 div.sk-label label {font-family: monospace;font-weight: bold;display: inline-block;line-height: 1.2em;}#sk-container-id-1 div.sk-label-container {text-align: center;}#sk-container-id-1 div.sk-container {/* jupyter's `normalize.less` sets `[hidden] { display: none; }` but bootstrap.min.css set `[hidden] { display: none !important; }` so we also need the `!important` here to be able to override the default hidden behavior on the sphinx rendered scikit-learn.org. See: https://github.com/scikit-learn/scikit-learn/issues/21755 */display: inline-block !important;position: relative;}#sk-container-id-1 div.sk-text-repr-fallback {display: none;}</style><div id=\"sk-container-id-1\" class=\"sk-top-container\"><div class=\"sk-text-repr-fallback\"><pre>LogisticRegression()</pre><b>In a Jupyter environment, please rerun this cell to show the HTML representation or trust the notebook. <br />On GitHub, the HTML representation is unable to render, please try loading this page with nbviewer.org.</b></div><div class=\"sk-container\" hidden><div class=\"sk-item\"><div class=\"sk-estimator sk-toggleable\"><input class=\"sk-toggleable__control sk-hidden--visually\" id=\"sk-estimator-id-1\" type=\"checkbox\" checked><label for=\"sk-estimator-id-1\" class=\"sk-toggleable__label sk-toggleable__label-arrow\">LogisticRegression</label><div class=\"sk-toggleable__content\"><pre>LogisticRegression()</pre></div></div></div></div></div>"
      ],
      "text/plain": [
       "LogisticRegression()"
      ]
     },
     "execution_count": 46,
     "metadata": {},
     "output_type": "execute_result"
    }
   ],
   "source": [
    "from sklearn.linear_model import LogisticRegression\n",
    "model = LogisticRegression(penalty='l2', solver='lbfgs')\n",
    "model.fit(x_train, y_train)\n"
   ]
  },
  {
   "cell_type": "code",
   "execution_count": 47,
   "id": "742b90dc",
   "metadata": {
    "execution": {
     "iopub.execute_input": "2024-11-29T13:14:59.675712Z",
     "iopub.status.busy": "2024-11-29T13:14:59.675006Z",
     "iopub.status.idle": "2024-11-29T13:14:59.743159Z",
     "shell.execute_reply": "2024-11-29T13:14:59.741469Z"
    },
    "papermill": {
     "duration": 0.12467,
     "end_time": "2024-11-29T13:14:59.747467",
     "exception": false,
     "start_time": "2024-11-29T13:14:59.622797",
     "status": "completed"
    },
    "tags": []
   },
   "outputs": [
    {
     "name": "stdout",
     "output_type": "stream",
     "text": [
      "Confusion Matrix:\n",
      "[[6491  154]\n",
      " [1032  166]]\n",
      "\n",
      "Classification Report:\n",
      "              precision    recall  f1-score   support\n",
      "\n",
      "           0       0.86      0.98      0.92      6645\n",
      "           1       0.52      0.14      0.22      1198\n",
      "\n",
      "    accuracy                           0.85      7843\n",
      "   macro avg       0.69      0.56      0.57      7843\n",
      "weighted avg       0.81      0.85      0.81      7843\n",
      "\n"
     ]
    }
   ],
   "source": [
    "X_train, X_test, y_train, y_test = train_test_split(x, y, test_size=0.2, random_state=42)\n",
    "y_pred_log= model.predict(X_test)\n",
    "\n",
    "print(\"Confusion Matrix:\")\n",
    "print(confusion_matrix(y_test, y_pred_log))\n",
    "\n",
    "print(\"\\nClassification Report:\")\n",
    "print(classification_report(y_test, y_pred_log))"
   ]
  },
  {
   "cell_type": "markdown",
   "id": "049151eb",
   "metadata": {
    "papermill": {
     "duration": 0.029878,
     "end_time": "2024-11-29T13:14:59.827358",
     "exception": false,
     "start_time": "2024-11-29T13:14:59.797480",
     "status": "completed"
    },
    "tags": []
   },
   "source": [
    "# Random forest learning"
   ]
  },
  {
   "cell_type": "code",
   "execution_count": 48,
   "id": "dcdd19b6",
   "metadata": {
    "execution": {
     "iopub.execute_input": "2024-11-29T13:14:59.862712Z",
     "iopub.status.busy": "2024-11-29T13:14:59.862331Z",
     "iopub.status.idle": "2024-11-29T13:15:17.974607Z",
     "shell.execute_reply": "2024-11-29T13:15:17.973461Z"
    },
    "papermill": {
     "duration": 18.132782,
     "end_time": "2024-11-29T13:15:17.977037",
     "exception": false,
     "start_time": "2024-11-29T13:14:59.844255",
     "status": "completed"
    },
    "tags": []
   },
   "outputs": [
    {
     "data": {
      "text/html": [
       "<style>#sk-container-id-2 {color: black;background-color: white;}#sk-container-id-2 pre{padding: 0;}#sk-container-id-2 div.sk-toggleable {background-color: white;}#sk-container-id-2 label.sk-toggleable__label {cursor: pointer;display: block;width: 100%;margin-bottom: 0;padding: 0.3em;box-sizing: border-box;text-align: center;}#sk-container-id-2 label.sk-toggleable__label-arrow:before {content: \"▸\";float: left;margin-right: 0.25em;color: #696969;}#sk-container-id-2 label.sk-toggleable__label-arrow:hover:before {color: black;}#sk-container-id-2 div.sk-estimator:hover label.sk-toggleable__label-arrow:before {color: black;}#sk-container-id-2 div.sk-toggleable__content {max-height: 0;max-width: 0;overflow: hidden;text-align: left;background-color: #f0f8ff;}#sk-container-id-2 div.sk-toggleable__content pre {margin: 0.2em;color: black;border-radius: 0.25em;background-color: #f0f8ff;}#sk-container-id-2 input.sk-toggleable__control:checked~div.sk-toggleable__content {max-height: 200px;max-width: 100%;overflow: auto;}#sk-container-id-2 input.sk-toggleable__control:checked~label.sk-toggleable__label-arrow:before {content: \"▾\";}#sk-container-id-2 div.sk-estimator input.sk-toggleable__control:checked~label.sk-toggleable__label {background-color: #d4ebff;}#sk-container-id-2 div.sk-label input.sk-toggleable__control:checked~label.sk-toggleable__label {background-color: #d4ebff;}#sk-container-id-2 input.sk-hidden--visually {border: 0;clip: rect(1px 1px 1px 1px);clip: rect(1px, 1px, 1px, 1px);height: 1px;margin: -1px;overflow: hidden;padding: 0;position: absolute;width: 1px;}#sk-container-id-2 div.sk-estimator {font-family: monospace;background-color: #f0f8ff;border: 1px dotted black;border-radius: 0.25em;box-sizing: border-box;margin-bottom: 0.5em;}#sk-container-id-2 div.sk-estimator:hover {background-color: #d4ebff;}#sk-container-id-2 div.sk-parallel-item::after {content: \"\";width: 100%;border-bottom: 1px solid gray;flex-grow: 1;}#sk-container-id-2 div.sk-label:hover label.sk-toggleable__label {background-color: #d4ebff;}#sk-container-id-2 div.sk-serial::before {content: \"\";position: absolute;border-left: 1px solid gray;box-sizing: border-box;top: 0;bottom: 0;left: 50%;z-index: 0;}#sk-container-id-2 div.sk-serial {display: flex;flex-direction: column;align-items: center;background-color: white;padding-right: 0.2em;padding-left: 0.2em;position: relative;}#sk-container-id-2 div.sk-item {position: relative;z-index: 1;}#sk-container-id-2 div.sk-parallel {display: flex;align-items: stretch;justify-content: center;background-color: white;position: relative;}#sk-container-id-2 div.sk-item::before, #sk-container-id-2 div.sk-parallel-item::before {content: \"\";position: absolute;border-left: 1px solid gray;box-sizing: border-box;top: 0;bottom: 0;left: 50%;z-index: -1;}#sk-container-id-2 div.sk-parallel-item {display: flex;flex-direction: column;z-index: 1;position: relative;background-color: white;}#sk-container-id-2 div.sk-parallel-item:first-child::after {align-self: flex-end;width: 50%;}#sk-container-id-2 div.sk-parallel-item:last-child::after {align-self: flex-start;width: 50%;}#sk-container-id-2 div.sk-parallel-item:only-child::after {width: 0;}#sk-container-id-2 div.sk-dashed-wrapped {border: 1px dashed gray;margin: 0 0.4em 0.5em 0.4em;box-sizing: border-box;padding-bottom: 0.4em;background-color: white;}#sk-container-id-2 div.sk-label label {font-family: monospace;font-weight: bold;display: inline-block;line-height: 1.2em;}#sk-container-id-2 div.sk-label-container {text-align: center;}#sk-container-id-2 div.sk-container {/* jupyter's `normalize.less` sets `[hidden] { display: none; }` but bootstrap.min.css set `[hidden] { display: none !important; }` so we also need the `!important` here to be able to override the default hidden behavior on the sphinx rendered scikit-learn.org. See: https://github.com/scikit-learn/scikit-learn/issues/21755 */display: inline-block !important;position: relative;}#sk-container-id-2 div.sk-text-repr-fallback {display: none;}</style><div id=\"sk-container-id-2\" class=\"sk-top-container\"><div class=\"sk-text-repr-fallback\"><pre>RandomForestClassifier(class_weight=&#x27;balanced&#x27;, min_samples_leaf=2,\n",
       "                       n_estimators=400, random_state=42)</pre><b>In a Jupyter environment, please rerun this cell to show the HTML representation or trust the notebook. <br />On GitHub, the HTML representation is unable to render, please try loading this page with nbviewer.org.</b></div><div class=\"sk-container\" hidden><div class=\"sk-item\"><div class=\"sk-estimator sk-toggleable\"><input class=\"sk-toggleable__control sk-hidden--visually\" id=\"sk-estimator-id-2\" type=\"checkbox\" checked><label for=\"sk-estimator-id-2\" class=\"sk-toggleable__label sk-toggleable__label-arrow\">RandomForestClassifier</label><div class=\"sk-toggleable__content\"><pre>RandomForestClassifier(class_weight=&#x27;balanced&#x27;, min_samples_leaf=2,\n",
       "                       n_estimators=400, random_state=42)</pre></div></div></div></div></div>"
      ],
      "text/plain": [
       "RandomForestClassifier(class_weight='balanced', min_samples_leaf=2,\n",
       "                       n_estimators=400, random_state=42)"
      ]
     },
     "execution_count": 48,
     "metadata": {},
     "output_type": "execute_result"
    }
   ],
   "source": [
    "from sklearn.ensemble import RandomForestClassifier\n",
    "\n",
    "X_train, X_test, y_train, y_test = train_test_split(x, y, test_size=0.2, random_state=42)\n",
    "\n",
    "rf_model = RandomForestClassifier(\n",
    "                                    n_estimators=400,\n",
    "                                    min_samples_split=2,\n",
    "                                    min_samples_leaf=2,\n",
    "                                    max_features='sqrt',\n",
    "                                    max_depth=None,\n",
    "                                    bootstrap=True,\n",
    "                                    class_weight='balanced', \n",
    "                                    random_state=42\n",
    "                                )\n",
    "rf_model.fit(X_train,y_train)\n",
    "\n"
   ]
  },
  {
   "cell_type": "code",
   "execution_count": 49,
   "id": "e774cc3c",
   "metadata": {
    "execution": {
     "iopub.execute_input": "2024-11-29T13:15:18.013539Z",
     "iopub.status.busy": "2024-11-29T13:15:18.013124Z",
     "iopub.status.idle": "2024-11-29T13:15:18.655591Z",
     "shell.execute_reply": "2024-11-29T13:15:18.654354Z"
    },
    "papermill": {
     "duration": 0.663215,
     "end_time": "2024-11-29T13:15:18.657914",
     "exception": false,
     "start_time": "2024-11-29T13:15:17.994699",
     "status": "completed"
    },
    "tags": []
   },
   "outputs": [
    {
     "name": "stdout",
     "output_type": "stream",
     "text": [
      "Confusion Matrix:\n",
      "[[6082  563]\n",
      " [ 517  681]]\n",
      "\n",
      "Classification Report:\n",
      "              precision    recall  f1-score   support\n",
      "\n",
      "           0       0.92      0.92      0.92      6645\n",
      "           1       0.55      0.57      0.56      1198\n",
      "\n",
      "    accuracy                           0.86      7843\n",
      "   macro avg       0.73      0.74      0.74      7843\n",
      "weighted avg       0.86      0.86      0.86      7843\n",
      "\n"
     ]
    }
   ],
   "source": [
    "y_pred_rf= rf_model.predict(X_test)\n",
    "\n",
    "print(\"Confusion Matrix:\")\n",
    "print(confusion_matrix(y_test, y_pred_rf))\n",
    "\n",
    "print(\"\\nClassification Report:\")\n",
    "print(classification_report(y_test, y_pred_rf))"
   ]
  },
  {
   "cell_type": "markdown",
   "id": "280fcf4d",
   "metadata": {
    "papermill": {
     "duration": 0.017053,
     "end_time": "2024-11-29T13:15:18.692533",
     "exception": false,
     "start_time": "2024-11-29T13:15:18.675480",
     "status": "completed"
    },
    "tags": []
   },
   "source": [
    "# bagging"
   ]
  },
  {
   "cell_type": "code",
   "execution_count": 50,
   "id": "de9aa836",
   "metadata": {
    "execution": {
     "iopub.execute_input": "2024-11-29T13:15:18.729566Z",
     "iopub.status.busy": "2024-11-29T13:15:18.729159Z",
     "iopub.status.idle": "2024-11-29T13:15:20.805890Z",
     "shell.execute_reply": "2024-11-29T13:15:20.804812Z"
    },
    "papermill": {
     "duration": 2.097697,
     "end_time": "2024-11-29T13:15:20.808297",
     "exception": false,
     "start_time": "2024-11-29T13:15:18.710600",
     "status": "completed"
    },
    "tags": []
   },
   "outputs": [
    {
     "name": "stderr",
     "output_type": "stream",
     "text": [
      "/opt/conda/lib/python3.10/site-packages/sklearn/ensemble/_base.py:166: FutureWarning: `base_estimator` was renamed to `estimator` in version 1.2 and will be removed in 1.4.\n",
      "  warnings.warn(\n"
     ]
    },
    {
     "data": {
      "text/html": [
       "<style>#sk-container-id-3 {color: black;background-color: white;}#sk-container-id-3 pre{padding: 0;}#sk-container-id-3 div.sk-toggleable {background-color: white;}#sk-container-id-3 label.sk-toggleable__label {cursor: pointer;display: block;width: 100%;margin-bottom: 0;padding: 0.3em;box-sizing: border-box;text-align: center;}#sk-container-id-3 label.sk-toggleable__label-arrow:before {content: \"▸\";float: left;margin-right: 0.25em;color: #696969;}#sk-container-id-3 label.sk-toggleable__label-arrow:hover:before {color: black;}#sk-container-id-3 div.sk-estimator:hover label.sk-toggleable__label-arrow:before {color: black;}#sk-container-id-3 div.sk-toggleable__content {max-height: 0;max-width: 0;overflow: hidden;text-align: left;background-color: #f0f8ff;}#sk-container-id-3 div.sk-toggleable__content pre {margin: 0.2em;color: black;border-radius: 0.25em;background-color: #f0f8ff;}#sk-container-id-3 input.sk-toggleable__control:checked~div.sk-toggleable__content {max-height: 200px;max-width: 100%;overflow: auto;}#sk-container-id-3 input.sk-toggleable__control:checked~label.sk-toggleable__label-arrow:before {content: \"▾\";}#sk-container-id-3 div.sk-estimator input.sk-toggleable__control:checked~label.sk-toggleable__label {background-color: #d4ebff;}#sk-container-id-3 div.sk-label input.sk-toggleable__control:checked~label.sk-toggleable__label {background-color: #d4ebff;}#sk-container-id-3 input.sk-hidden--visually {border: 0;clip: rect(1px 1px 1px 1px);clip: rect(1px, 1px, 1px, 1px);height: 1px;margin: -1px;overflow: hidden;padding: 0;position: absolute;width: 1px;}#sk-container-id-3 div.sk-estimator {font-family: monospace;background-color: #f0f8ff;border: 1px dotted black;border-radius: 0.25em;box-sizing: border-box;margin-bottom: 0.5em;}#sk-container-id-3 div.sk-estimator:hover {background-color: #d4ebff;}#sk-container-id-3 div.sk-parallel-item::after {content: \"\";width: 100%;border-bottom: 1px solid gray;flex-grow: 1;}#sk-container-id-3 div.sk-label:hover label.sk-toggleable__label {background-color: #d4ebff;}#sk-container-id-3 div.sk-serial::before {content: \"\";position: absolute;border-left: 1px solid gray;box-sizing: border-box;top: 0;bottom: 0;left: 50%;z-index: 0;}#sk-container-id-3 div.sk-serial {display: flex;flex-direction: column;align-items: center;background-color: white;padding-right: 0.2em;padding-left: 0.2em;position: relative;}#sk-container-id-3 div.sk-item {position: relative;z-index: 1;}#sk-container-id-3 div.sk-parallel {display: flex;align-items: stretch;justify-content: center;background-color: white;position: relative;}#sk-container-id-3 div.sk-item::before, #sk-container-id-3 div.sk-parallel-item::before {content: \"\";position: absolute;border-left: 1px solid gray;box-sizing: border-box;top: 0;bottom: 0;left: 50%;z-index: -1;}#sk-container-id-3 div.sk-parallel-item {display: flex;flex-direction: column;z-index: 1;position: relative;background-color: white;}#sk-container-id-3 div.sk-parallel-item:first-child::after {align-self: flex-end;width: 50%;}#sk-container-id-3 div.sk-parallel-item:last-child::after {align-self: flex-start;width: 50%;}#sk-container-id-3 div.sk-parallel-item:only-child::after {width: 0;}#sk-container-id-3 div.sk-dashed-wrapped {border: 1px dashed gray;margin: 0 0.4em 0.5em 0.4em;box-sizing: border-box;padding-bottom: 0.4em;background-color: white;}#sk-container-id-3 div.sk-label label {font-family: monospace;font-weight: bold;display: inline-block;line-height: 1.2em;}#sk-container-id-3 div.sk-label-container {text-align: center;}#sk-container-id-3 div.sk-container {/* jupyter's `normalize.less` sets `[hidden] { display: none; }` but bootstrap.min.css set `[hidden] { display: none !important; }` so we also need the `!important` here to be able to override the default hidden behavior on the sphinx rendered scikit-learn.org. See: https://github.com/scikit-learn/scikit-learn/issues/21755 */display: inline-block !important;position: relative;}#sk-container-id-3 div.sk-text-repr-fallback {display: none;}</style><div id=\"sk-container-id-3\" class=\"sk-top-container\"><div class=\"sk-text-repr-fallback\"><pre>BaggingClassifier(base_estimator=DecisionTreeClassifier(max_depth=5),\n",
       "                  max_features=0.7, max_samples=0.8, n_estimators=50,\n",
       "                  oob_score=True, random_state=42)</pre><b>In a Jupyter environment, please rerun this cell to show the HTML representation or trust the notebook. <br />On GitHub, the HTML representation is unable to render, please try loading this page with nbviewer.org.</b></div><div class=\"sk-container\" hidden><div class=\"sk-item sk-dashed-wrapped\"><div class=\"sk-label-container\"><div class=\"sk-label sk-toggleable\"><input class=\"sk-toggleable__control sk-hidden--visually\" id=\"sk-estimator-id-3\" type=\"checkbox\" ><label for=\"sk-estimator-id-3\" class=\"sk-toggleable__label sk-toggleable__label-arrow\">BaggingClassifier</label><div class=\"sk-toggleable__content\"><pre>BaggingClassifier(base_estimator=DecisionTreeClassifier(max_depth=5),\n",
       "                  max_features=0.7, max_samples=0.8, n_estimators=50,\n",
       "                  oob_score=True, random_state=42)</pre></div></div></div><div class=\"sk-parallel\"><div class=\"sk-parallel-item\"><div class=\"sk-item\"><div class=\"sk-label-container\"><div class=\"sk-label sk-toggleable\"><input class=\"sk-toggleable__control sk-hidden--visually\" id=\"sk-estimator-id-4\" type=\"checkbox\" ><label for=\"sk-estimator-id-4\" class=\"sk-toggleable__label sk-toggleable__label-arrow\">base_estimator: DecisionTreeClassifier</label><div class=\"sk-toggleable__content\"><pre>DecisionTreeClassifier(max_depth=5)</pre></div></div></div><div class=\"sk-serial\"><div class=\"sk-item\"><div class=\"sk-estimator sk-toggleable\"><input class=\"sk-toggleable__control sk-hidden--visually\" id=\"sk-estimator-id-5\" type=\"checkbox\" ><label for=\"sk-estimator-id-5\" class=\"sk-toggleable__label sk-toggleable__label-arrow\">DecisionTreeClassifier</label><div class=\"sk-toggleable__content\"><pre>DecisionTreeClassifier(max_depth=5)</pre></div></div></div></div></div></div></div></div></div></div>"
      ],
      "text/plain": [
       "BaggingClassifier(base_estimator=DecisionTreeClassifier(max_depth=5),\n",
       "                  max_features=0.7, max_samples=0.8, n_estimators=50,\n",
       "                  oob_score=True, random_state=42)"
      ]
     },
     "execution_count": 50,
     "metadata": {},
     "output_type": "execute_result"
    }
   ],
   "source": [
    "# bagging\n",
    "\n",
    "\n",
    "from sklearn.ensemble import BaggingClassifier\n",
    "from sklearn.tree import DecisionTreeClassifier\n",
    "\n",
    "bagging_clf = BaggingClassifier(\n",
    "    base_estimator=DecisionTreeClassifier(max_depth=5),\n",
    "    n_estimators=50,\n",
    "    max_samples=0.8,\n",
    "    max_features=0.7,\n",
    "    oob_score=True,\n",
    "    random_state=42\n",
    ")\n",
    "bagging_clf.fit(x_train, y_train)\n",
    "\n"
   ]
  },
  {
   "cell_type": "code",
   "execution_count": 51,
   "id": "7b017c90",
   "metadata": {
    "execution": {
     "iopub.execute_input": "2024-11-29T13:15:20.846825Z",
     "iopub.status.busy": "2024-11-29T13:15:20.846433Z",
     "iopub.status.idle": "2024-11-29T13:15:20.916837Z",
     "shell.execute_reply": "2024-11-29T13:15:20.915562Z"
    },
    "papermill": {
     "duration": 0.091419,
     "end_time": "2024-11-29T13:15:20.919135",
     "exception": false,
     "start_time": "2024-11-29T13:15:20.827716",
     "status": "completed"
    },
    "tags": []
   },
   "outputs": [
    {
     "name": "stdout",
     "output_type": "stream",
     "text": [
      "Confusion Matrix:\n",
      "[[6434  211]\n",
      " [ 989  209]]\n",
      "\n",
      "Classification Report:\n",
      "              precision    recall  f1-score   support\n",
      "\n",
      "           0       0.87      0.97      0.91      6645\n",
      "           1       0.50      0.17      0.26      1198\n",
      "\n",
      "    accuracy                           0.85      7843\n",
      "   macro avg       0.68      0.57      0.59      7843\n",
      "weighted avg       0.81      0.85      0.81      7843\n",
      "\n"
     ]
    }
   ],
   "source": [
    "y_pred_bag= bagging_clf.predict(X_test)\n",
    "\n",
    "print(\"Confusion Matrix:\")\n",
    "print(confusion_matrix(y_test, y_pred_bag))\n",
    "\n",
    "print(\"\\nClassification Report:\")\n",
    "print(classification_report(y_test, y_pred_bag))"
   ]
  },
  {
   "cell_type": "markdown",
   "id": "81d67bfd",
   "metadata": {
    "papermill": {
     "duration": 0.017354,
     "end_time": "2024-11-29T13:15:20.955126",
     "exception": false,
     "start_time": "2024-11-29T13:15:20.937772",
     "status": "completed"
    },
    "tags": []
   },
   "source": [
    "# boosting\n"
   ]
  },
  {
   "cell_type": "code",
   "execution_count": 52,
   "id": "df2b6036",
   "metadata": {
    "execution": {
     "iopub.execute_input": "2024-11-29T13:15:20.992264Z",
     "iopub.status.busy": "2024-11-29T13:15:20.991920Z",
     "iopub.status.idle": "2024-11-29T13:15:22.941214Z",
     "shell.execute_reply": "2024-11-29T13:15:22.939035Z"
    },
    "papermill": {
     "duration": 1.97114,
     "end_time": "2024-11-29T13:15:22.943857",
     "exception": false,
     "start_time": "2024-11-29T13:15:20.972717",
     "status": "completed"
    },
    "tags": []
   },
   "outputs": [
    {
     "data": {
      "text/html": [
       "<style>#sk-container-id-4 {color: black;background-color: white;}#sk-container-id-4 pre{padding: 0;}#sk-container-id-4 div.sk-toggleable {background-color: white;}#sk-container-id-4 label.sk-toggleable__label {cursor: pointer;display: block;width: 100%;margin-bottom: 0;padding: 0.3em;box-sizing: border-box;text-align: center;}#sk-container-id-4 label.sk-toggleable__label-arrow:before {content: \"▸\";float: left;margin-right: 0.25em;color: #696969;}#sk-container-id-4 label.sk-toggleable__label-arrow:hover:before {color: black;}#sk-container-id-4 div.sk-estimator:hover label.sk-toggleable__label-arrow:before {color: black;}#sk-container-id-4 div.sk-toggleable__content {max-height: 0;max-width: 0;overflow: hidden;text-align: left;background-color: #f0f8ff;}#sk-container-id-4 div.sk-toggleable__content pre {margin: 0.2em;color: black;border-radius: 0.25em;background-color: #f0f8ff;}#sk-container-id-4 input.sk-toggleable__control:checked~div.sk-toggleable__content {max-height: 200px;max-width: 100%;overflow: auto;}#sk-container-id-4 input.sk-toggleable__control:checked~label.sk-toggleable__label-arrow:before {content: \"▾\";}#sk-container-id-4 div.sk-estimator input.sk-toggleable__control:checked~label.sk-toggleable__label {background-color: #d4ebff;}#sk-container-id-4 div.sk-label input.sk-toggleable__control:checked~label.sk-toggleable__label {background-color: #d4ebff;}#sk-container-id-4 input.sk-hidden--visually {border: 0;clip: rect(1px 1px 1px 1px);clip: rect(1px, 1px, 1px, 1px);height: 1px;margin: -1px;overflow: hidden;padding: 0;position: absolute;width: 1px;}#sk-container-id-4 div.sk-estimator {font-family: monospace;background-color: #f0f8ff;border: 1px dotted black;border-radius: 0.25em;box-sizing: border-box;margin-bottom: 0.5em;}#sk-container-id-4 div.sk-estimator:hover {background-color: #d4ebff;}#sk-container-id-4 div.sk-parallel-item::after {content: \"\";width: 100%;border-bottom: 1px solid gray;flex-grow: 1;}#sk-container-id-4 div.sk-label:hover label.sk-toggleable__label {background-color: #d4ebff;}#sk-container-id-4 div.sk-serial::before {content: \"\";position: absolute;border-left: 1px solid gray;box-sizing: border-box;top: 0;bottom: 0;left: 50%;z-index: 0;}#sk-container-id-4 div.sk-serial {display: flex;flex-direction: column;align-items: center;background-color: white;padding-right: 0.2em;padding-left: 0.2em;position: relative;}#sk-container-id-4 div.sk-item {position: relative;z-index: 1;}#sk-container-id-4 div.sk-parallel {display: flex;align-items: stretch;justify-content: center;background-color: white;position: relative;}#sk-container-id-4 div.sk-item::before, #sk-container-id-4 div.sk-parallel-item::before {content: \"\";position: absolute;border-left: 1px solid gray;box-sizing: border-box;top: 0;bottom: 0;left: 50%;z-index: -1;}#sk-container-id-4 div.sk-parallel-item {display: flex;flex-direction: column;z-index: 1;position: relative;background-color: white;}#sk-container-id-4 div.sk-parallel-item:first-child::after {align-self: flex-end;width: 50%;}#sk-container-id-4 div.sk-parallel-item:last-child::after {align-self: flex-start;width: 50%;}#sk-container-id-4 div.sk-parallel-item:only-child::after {width: 0;}#sk-container-id-4 div.sk-dashed-wrapped {border: 1px dashed gray;margin: 0 0.4em 0.5em 0.4em;box-sizing: border-box;padding-bottom: 0.4em;background-color: white;}#sk-container-id-4 div.sk-label label {font-family: monospace;font-weight: bold;display: inline-block;line-height: 1.2em;}#sk-container-id-4 div.sk-label-container {text-align: center;}#sk-container-id-4 div.sk-container {/* jupyter's `normalize.less` sets `[hidden] { display: none; }` but bootstrap.min.css set `[hidden] { display: none !important; }` so we also need the `!important` here to be able to override the default hidden behavior on the sphinx rendered scikit-learn.org. See: https://github.com/scikit-learn/scikit-learn/issues/21755 */display: inline-block !important;position: relative;}#sk-container-id-4 div.sk-text-repr-fallback {display: none;}</style><div id=\"sk-container-id-4\" class=\"sk-top-container\"><div class=\"sk-text-repr-fallback\"><pre>XGBClassifier(base_score=None, booster=None, callbacks=None,\n",
       "              colsample_bylevel=None, colsample_bynode=None,\n",
       "              colsample_bytree=None, device=None, early_stopping_rounds=None,\n",
       "              enable_categorical=False, eval_metric=None, feature_types=None,\n",
       "              gamma=None, grow_policy=None, importance_type=None,\n",
       "              interaction_constraints=None, learning_rate=0.05, max_bin=None,\n",
       "              max_cat_threshold=None, max_cat_to_onehot=None,\n",
       "              max_delta_step=None, max_depth=6, max_leaves=None,\n",
       "              min_child_weight=None, missing=nan, monotone_constraints=None,\n",
       "              multi_strategy=None, n_estimators=700, n_jobs=None,\n",
       "              num_parallel_tree=None, random_state=42, ...)</pre><b>In a Jupyter environment, please rerun this cell to show the HTML representation or trust the notebook. <br />On GitHub, the HTML representation is unable to render, please try loading this page with nbviewer.org.</b></div><div class=\"sk-container\" hidden><div class=\"sk-item\"><div class=\"sk-estimator sk-toggleable\"><input class=\"sk-toggleable__control sk-hidden--visually\" id=\"sk-estimator-id-6\" type=\"checkbox\" checked><label for=\"sk-estimator-id-6\" class=\"sk-toggleable__label sk-toggleable__label-arrow\">XGBClassifier</label><div class=\"sk-toggleable__content\"><pre>XGBClassifier(base_score=None, booster=None, callbacks=None,\n",
       "              colsample_bylevel=None, colsample_bynode=None,\n",
       "              colsample_bytree=None, device=None, early_stopping_rounds=None,\n",
       "              enable_categorical=False, eval_metric=None, feature_types=None,\n",
       "              gamma=None, grow_policy=None, importance_type=None,\n",
       "              interaction_constraints=None, learning_rate=0.05, max_bin=None,\n",
       "              max_cat_threshold=None, max_cat_to_onehot=None,\n",
       "              max_delta_step=None, max_depth=6, max_leaves=None,\n",
       "              min_child_weight=None, missing=nan, monotone_constraints=None,\n",
       "              multi_strategy=None, n_estimators=700, n_jobs=None,\n",
       "              num_parallel_tree=None, random_state=42, ...)</pre></div></div></div></div></div>"
      ],
      "text/plain": [
       "XGBClassifier(base_score=None, booster=None, callbacks=None,\n",
       "              colsample_bylevel=None, colsample_bynode=None,\n",
       "              colsample_bytree=None, device=None, early_stopping_rounds=None,\n",
       "              enable_categorical=False, eval_metric=None, feature_types=None,\n",
       "              gamma=None, grow_policy=None, importance_type=None,\n",
       "              interaction_constraints=None, learning_rate=0.05, max_bin=None,\n",
       "              max_cat_threshold=None, max_cat_to_onehot=None,\n",
       "              max_delta_step=None, max_depth=6, max_leaves=None,\n",
       "              min_child_weight=None, missing=nan, monotone_constraints=None,\n",
       "              multi_strategy=None, n_estimators=700, n_jobs=None,\n",
       "              num_parallel_tree=None, random_state=42, ...)"
      ]
     },
     "execution_count": 52,
     "metadata": {},
     "output_type": "execute_result"
    }
   ],
   "source": [
    "#boosting \n",
    "from xgboost import XGBClassifier\n",
    "\n",
    "xgb_clf = XGBClassifier(\n",
    "    n_estimators=700,\n",
    "    learning_rate=0.05,\n",
    "    max_depth=6,\n",
    "    scale_pos_weight=4,  \n",
    "    random_state=42,\n",
    ")\n",
    "xgb_clf.fit(x_train, y_train)\n"
   ]
  },
  {
   "cell_type": "code",
   "execution_count": 53,
   "id": "d0b68de3",
   "metadata": {
    "execution": {
     "iopub.execute_input": "2024-11-29T13:15:22.981202Z",
     "iopub.status.busy": "2024-11-29T13:15:22.980825Z",
     "iopub.status.idle": "2024-11-29T13:15:23.070000Z",
     "shell.execute_reply": "2024-11-29T13:15:23.068411Z"
    },
    "papermill": {
     "duration": 0.110522,
     "end_time": "2024-11-29T13:15:23.072295",
     "exception": false,
     "start_time": "2024-11-29T13:15:22.961773",
     "status": "completed"
    },
    "tags": []
   },
   "outputs": [
    {
     "name": "stdout",
     "output_type": "stream",
     "text": [
      "Confusion Matrix:\n",
      "[[5838  807]\n",
      " [ 286  912]]\n",
      "\n",
      "Classification Report:\n",
      "              precision    recall  f1-score   support\n",
      "\n",
      "           0       0.95      0.88      0.91      6645\n",
      "           1       0.53      0.76      0.63      1198\n",
      "\n",
      "    accuracy                           0.86      7843\n",
      "   macro avg       0.74      0.82      0.77      7843\n",
      "weighted avg       0.89      0.86      0.87      7843\n",
      "\n"
     ]
    }
   ],
   "source": [
    "y_pred_boo= xgb_clf.predict(X_test)\n",
    "\n",
    "print(\"Confusion Matrix:\")\n",
    "print(confusion_matrix(y_test, y_pred_boo))\n",
    "\n",
    "print(\"\\nClassification Report:\")\n",
    "print(classification_report(y_test, y_pred_boo))"
   ]
  },
  {
   "cell_type": "markdown",
   "id": "7703fb00",
   "metadata": {
    "papermill": {
     "duration": 0.019544,
     "end_time": "2024-11-29T13:15:23.110044",
     "exception": false,
     "start_time": "2024-11-29T13:15:23.090500",
     "status": "completed"
    },
    "tags": []
   },
   "source": [
    "# predicting"
   ]
  },
  {
   "cell_type": "markdown",
   "id": "4b6829db",
   "metadata": {
    "papermill": {
     "duration": 0.01761,
     "end_time": "2024-11-29T13:15:23.146250",
     "exception": false,
     "start_time": "2024-11-29T13:15:23.128640",
     "status": "completed"
    },
    "tags": []
   },
   "source": [
    "**logistic classifier**"
   ]
  },
  {
   "cell_type": "code",
   "execution_count": 54,
   "id": "dc762a11",
   "metadata": {
    "execution": {
     "iopub.execute_input": "2024-11-29T13:15:23.184126Z",
     "iopub.status.busy": "2024-11-29T13:15:23.183735Z",
     "iopub.status.idle": "2024-11-29T13:15:23.196659Z",
     "shell.execute_reply": "2024-11-29T13:15:23.195299Z"
    },
    "papermill": {
     "duration": 0.034739,
     "end_time": "2024-11-29T13:15:23.199010",
     "exception": false,
     "start_time": "2024-11-29T13:15:23.164271",
     "status": "completed"
    },
    "tags": []
   },
   "outputs": [
    {
     "name": "stdout",
     "output_type": "stream",
     "text": [
      "<class 'pandas.core.frame.DataFrame'>\n",
      "RangeIndex: 10000 entries, 0 to 9999\n",
      "Data columns (total 16 columns):\n",
      " #   Column       Non-Null Count  Dtype  \n",
      "---  ------       --------------  -----  \n",
      " 0   age          10000 non-null  float64\n",
      " 1   marital      10000 non-null  int64  \n",
      " 2   default      10000 non-null  int64  \n",
      " 3   balance      10000 non-null  float64\n",
      " 4   housing      10000 non-null  int64  \n",
      " 5   loan         10000 non-null  int64  \n",
      " 6   duration     10000 non-null  float64\n",
      " 7   campaign     10000 non-null  float64\n",
      " 8   pdays        10000 non-null  float64\n",
      " 9   previous     10000 non-null  float64\n",
      " 10  job          10000 non-null  float64\n",
      " 11  education    10000 non-null  float64\n",
      " 12  year         10000 non-null  float64\n",
      " 13  month        10000 non-null  float64\n",
      " 14  day          10000 non-null  float64\n",
      " 15  day_of_week  10000 non-null  float64\n",
      "dtypes: float64(12), int64(4)\n",
      "memory usage: 1.2 MB\n"
     ]
    }
   ],
   "source": [
    "x_test.info()"
   ]
  },
  {
   "cell_type": "code",
   "execution_count": 55,
   "id": "ded7a0d1",
   "metadata": {
    "execution": {
     "iopub.execute_input": "2024-11-29T13:15:23.238570Z",
     "iopub.status.busy": "2024-11-29T13:15:23.238088Z",
     "iopub.status.idle": "2024-11-29T13:15:23.249371Z",
     "shell.execute_reply": "2024-11-29T13:15:23.247629Z"
    },
    "papermill": {
     "duration": 0.036998,
     "end_time": "2024-11-29T13:15:23.254194",
     "exception": false,
     "start_time": "2024-11-29T13:15:23.217196",
     "status": "completed"
    },
    "tags": []
   },
   "outputs": [],
   "source": [
    "y_pred_logistic_reg_t=model.predict(x_test)"
   ]
  },
  {
   "cell_type": "markdown",
   "id": "fa48da46",
   "metadata": {
    "papermill": {
     "duration": 0.053082,
     "end_time": "2024-11-29T13:15:23.362001",
     "exception": false,
     "start_time": "2024-11-29T13:15:23.308919",
     "status": "completed"
    },
    "tags": []
   },
   "source": [
    "**random forest**"
   ]
  },
  {
   "cell_type": "code",
   "execution_count": 56,
   "id": "6e99f99b",
   "metadata": {
    "execution": {
     "iopub.execute_input": "2024-11-29T13:15:23.402842Z",
     "iopub.status.busy": "2024-11-29T13:15:23.401895Z",
     "iopub.status.idle": "2024-11-29T13:15:24.153377Z",
     "shell.execute_reply": "2024-11-29T13:15:24.151970Z"
    },
    "papermill": {
     "duration": 0.773624,
     "end_time": "2024-11-29T13:15:24.156092",
     "exception": false,
     "start_time": "2024-11-29T13:15:23.382468",
     "status": "completed"
    },
    "tags": []
   },
   "outputs": [],
   "source": [
    "y_pred_random_forest_t=rf_model.predict(x_test)\n"
   ]
  },
  {
   "cell_type": "markdown",
   "id": "5f3f08a7",
   "metadata": {
    "papermill": {
     "duration": 0.018059,
     "end_time": "2024-11-29T13:15:24.192191",
     "exception": false,
     "start_time": "2024-11-29T13:15:24.174132",
     "status": "completed"
    },
    "tags": []
   },
   "source": [
    "# bagging"
   ]
  },
  {
   "cell_type": "code",
   "execution_count": 57,
   "id": "8a223184",
   "metadata": {
    "execution": {
     "iopub.execute_input": "2024-11-29T13:15:24.231030Z",
     "iopub.status.busy": "2024-11-29T13:15:24.230622Z",
     "iopub.status.idle": "2024-11-29T13:15:24.235815Z",
     "shell.execute_reply": "2024-11-29T13:15:24.234707Z"
    },
    "papermill": {
     "duration": 0.027434,
     "end_time": "2024-11-29T13:15:24.238462",
     "exception": false,
     "start_time": "2024-11-29T13:15:24.211028",
     "status": "completed"
    },
    "tags": []
   },
   "outputs": [],
   "source": [
    "#bagging_preds = bagging_clf.predict(X_test)"
   ]
  },
  {
   "cell_type": "markdown",
   "id": "ab499218",
   "metadata": {
    "papermill": {
     "duration": 0.01885,
     "end_time": "2024-11-29T13:15:24.275220",
     "exception": false,
     "start_time": "2024-11-29T13:15:24.256370",
     "status": "completed"
    },
    "tags": []
   },
   "source": [
    "# boosting"
   ]
  },
  {
   "cell_type": "code",
   "execution_count": 58,
   "id": "d9baf5fe",
   "metadata": {
    "execution": {
     "iopub.execute_input": "2024-11-29T13:15:24.314117Z",
     "iopub.status.busy": "2024-11-29T13:15:24.313301Z",
     "iopub.status.idle": "2024-11-29T13:15:24.392061Z",
     "shell.execute_reply": "2024-11-29T13:15:24.391245Z"
    },
    "papermill": {
     "duration": 0.101739,
     "end_time": "2024-11-29T13:15:24.394815",
     "exception": false,
     "start_time": "2024-11-29T13:15:24.293076",
     "status": "completed"
    },
    "tags": []
   },
   "outputs": [],
   "source": [
    "y_pred_boosting_pred=xgb_clf.predict(x_test)"
   ]
  },
  {
   "cell_type": "code",
   "execution_count": 59,
   "id": "3181e726",
   "metadata": {
    "execution": {
     "iopub.execute_input": "2024-11-29T13:15:24.435703Z",
     "iopub.status.busy": "2024-11-29T13:15:24.435231Z",
     "iopub.status.idle": "2024-11-29T13:15:24.443622Z",
     "shell.execute_reply": "2024-11-29T13:15:24.442494Z"
    },
    "papermill": {
     "duration": 0.030409,
     "end_time": "2024-11-29T13:15:24.446105",
     "exception": false,
     "start_time": "2024-11-29T13:15:24.415696",
     "status": "completed"
    },
    "tags": []
   },
   "outputs": [],
   "source": [
    "predictions = pd.DataFrame({\n",
    "    'id': df_t.index, \n",
    "    'target':np.where(y_pred_random_forest_t == 1, 'yes', 'no')\n",
    "                            })\n",
    "\n",
    "\n",
    "#predictions.to_csv('submission.csv', index=False)\n",
    "# 0.64794"
   ]
  },
  {
   "cell_type": "code",
   "execution_count": 60,
   "id": "8e525056",
   "metadata": {
    "execution": {
     "iopub.execute_input": "2024-11-29T13:15:24.485107Z",
     "iopub.status.busy": "2024-11-29T13:15:24.484712Z",
     "iopub.status.idle": "2024-11-29T13:15:24.493246Z",
     "shell.execute_reply": "2024-11-29T13:15:24.492350Z"
    },
    "papermill": {
     "duration": 0.031372,
     "end_time": "2024-11-29T13:15:24.495616",
     "exception": false,
     "start_time": "2024-11-29T13:15:24.464244",
     "status": "completed"
    },
    "tags": []
   },
   "outputs": [],
   "source": [
    "predictions = pd.DataFrame({\n",
    "    'id': df_t.index, \n",
    "    'target':np.where(y_pred_logistic_reg_t == 1, 'yes', 'no')\n",
    "                            })\n",
    "\n",
    "\n",
    "#predictions.to_csv('submission.csv', index=False)\n"
   ]
  },
  {
   "cell_type": "code",
   "execution_count": 61,
   "id": "2abc98c5",
   "metadata": {
    "execution": {
     "iopub.execute_input": "2024-11-29T13:15:24.534503Z",
     "iopub.status.busy": "2024-11-29T13:15:24.534077Z",
     "iopub.status.idle": "2024-11-29T13:15:24.553983Z",
     "shell.execute_reply": "2024-11-29T13:15:24.552692Z"
    },
    "papermill": {
     "duration": 0.042173,
     "end_time": "2024-11-29T13:15:24.556484",
     "exception": false,
     "start_time": "2024-11-29T13:15:24.514311",
     "status": "completed"
    },
    "tags": []
   },
   "outputs": [],
   "source": [
    "predictions_boosting = pd.DataFrame({\n",
    "    'id': df_t.index, \n",
    "    'target':np.where(y_pred_boosting_pred == 1, 'yes', 'no')\n",
    "                            })\n",
    "predictions_boosting.to_csv('submission.csv', index=False)"
   ]
  },
  {
   "cell_type": "code",
   "execution_count": null,
   "id": "0bea085c",
   "metadata": {
    "papermill": {
     "duration": 0.018806,
     "end_time": "2024-11-29T13:15:24.594732",
     "exception": false,
     "start_time": "2024-11-29T13:15:24.575926",
     "status": "completed"
    },
    "tags": []
   },
   "outputs": [],
   "source": []
  }
 ],
 "metadata": {
  "kaggle": {
   "accelerator": "none",
   "dataSources": [
    {
     "databundleVersionId": 9578279,
     "sourceId": 85062,
     "sourceType": "competition"
    }
   ],
   "dockerImageVersionId": 30775,
   "isGpuEnabled": false,
   "isInternetEnabled": true,
   "language": "python",
   "sourceType": "notebook"
  },
  "kernelspec": {
   "display_name": "Python 3",
   "language": "python",
   "name": "python3"
  },
  "language_info": {
   "codemirror_mode": {
    "name": "ipython",
    "version": 3
   },
   "file_extension": ".py",
   "mimetype": "text/x-python",
   "name": "python",
   "nbconvert_exporter": "python",
   "pygments_lexer": "ipython3",
   "version": "3.10.14"
  },
  "papermill": {
   "default_parameters": {},
   "duration": 36.715493,
   "end_time": "2024-11-29T13:15:25.437699",
   "environment_variables": {},
   "exception": null,
   "input_path": "__notebook__.ipynb",
   "output_path": "__notebook__.ipynb",
   "parameters": {},
   "start_time": "2024-11-29T13:14:48.722206",
   "version": "2.6.0"
  }
 },
 "nbformat": 4,
 "nbformat_minor": 5
}
